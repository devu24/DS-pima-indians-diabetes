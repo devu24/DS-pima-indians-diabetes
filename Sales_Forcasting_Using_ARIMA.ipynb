{
  "cells": [
    {
      "cell_type": "code",
      "execution_count": null,
      "metadata": {
        "id": "QZ82PeyWFVX8",
        "outputId": "3b788e53-1f3f-4a62-8e0e-b95548846ff3"
      },
      "outputs": [
        {
          "name": "stdout",
          "output_type": "stream",
          "text": [
            "Collecting imbalanced-learn==0.6.0\n",
            "  Downloading imbalanced_learn-0.6.0-py3-none-any.whl (162 kB)\n",
            "     ------------------------------------- 162.6/162.6 kB 2.4 MB/s eta 0:00:00\n",
            "Requirement already satisfied: joblib>=0.11 in c:\\users\\rahul\\anaconda3\\lib\\site-packages (from imbalanced-learn==0.6.0) (1.1.0)\n",
            "Requirement already satisfied: numpy>=1.11 in c:\\users\\rahul\\anaconda3\\lib\\site-packages (from imbalanced-learn==0.6.0) (1.21.5)\n",
            "Requirement already satisfied: scikit-learn>=0.22 in c:\\users\\rahul\\anaconda3\\lib\\site-packages (from imbalanced-learn==0.6.0) (1.0.2)\n",
            "Requirement already satisfied: scipy>=0.17 in c:\\users\\rahul\\anaconda3\\lib\\site-packages (from imbalanced-learn==0.6.0) (1.9.1)\n",
            "Requirement already satisfied: threadpoolctl>=2.0.0 in c:\\users\\rahul\\anaconda3\\lib\\site-packages (from scikit-learn>=0.22->imbalanced-learn==0.6.0) (2.2.0)\n",
            "Installing collected packages: imbalanced-learn\n",
            "Successfully installed imbalanced-learn-0.6.0\n"
          ]
        }
      ],
      "source": [
        "!pip install imbalanced-learn==0.6.0"
      ]
    },
    {
      "cell_type": "code",
      "execution_count": null,
      "metadata": {
        "scrolled": true,
        "id": "Bf-Nf4lTFVX-"
      },
      "outputs": [],
      "source": [
        "import pandas as pd\n",
        "import numpy as np\n",
        "import seaborn as sns\n",
        "from imblearn.over_sampling import SMOTE\n",
        "from imblearn import under_sampling\n",
        "from imblearn import over_sampling\n",
        "import matplotlib.pyplot as plt\n",
        "from sklearn.ensemble import RandomForestClassifier\n",
        "from sklearn.tree import DecisionTreeClassifier\n",
        "from sklearn.neighbors import KNeighborsClassifier\n",
        "from sklearn.model_selection import train_test_split\n",
        "from sklearn.linear_model import LogisticRegression\n",
        "import pickle"
      ]
    },
    {
      "cell_type": "code",
      "execution_count": null,
      "metadata": {
        "id": "BaQ6yZNuFVX-"
      },
      "outputs": [],
      "source": [
        "data = pd.read_excel('DS-pima-indians-diabetes.xlsx')"
      ]
    },
    {
      "cell_type": "code",
      "execution_count": null,
      "metadata": {
        "id": "OZPfQSFKFVX-",
        "outputId": "bb78fe78-8371-420c-df45-f59aacf0d122"
      },
      "outputs": [
        {
          "data": {
            "text/plain": [
              "(768, 8)"
            ]
          },
          "execution_count": 4,
          "metadata": {},
          "output_type": "execute_result"
        }
      ],
      "source": [
        "data.shape"
      ]
    },
    {
      "cell_type": "code",
      "execution_count": null,
      "metadata": {
        "scrolled": true,
        "id": "uNjmI6y3FVX_",
        "outputId": "73065248-a274-4c22-aa2a-a57429e5ee55"
      },
      "outputs": [
        {
          "data": {
            "text/html": [
              "<div>\n",
              "<style scoped>\n",
              "    .dataframe tbody tr th:only-of-type {\n",
              "        vertical-align: middle;\n",
              "    }\n",
              "\n",
              "    .dataframe tbody tr th {\n",
              "        vertical-align: top;\n",
              "    }\n",
              "\n",
              "    .dataframe thead th {\n",
              "        text-align: right;\n",
              "    }\n",
              "</style>\n",
              "<table border=\"1\" class=\"dataframe\">\n",
              "  <thead>\n",
              "    <tr style=\"text-align: right;\">\n",
              "      <th></th>\n",
              "      <th>Number of times Pregnant</th>\n",
              "      <th>Plasma Concentration</th>\n",
              "      <th>Diastolic BP</th>\n",
              "      <th>Triceps Skin fold thickness</th>\n",
              "      <th>insulin</th>\n",
              "      <th>BMI</th>\n",
              "      <th>Age</th>\n",
              "      <th>Class (1: positive for diabetes, 0: negative for diabetes)</th>\n",
              "    </tr>\n",
              "  </thead>\n",
              "  <tbody>\n",
              "    <tr>\n",
              "      <th>0</th>\n",
              "      <td>6.0</td>\n",
              "      <td>148.0</td>\n",
              "      <td>72.0</td>\n",
              "      <td>35.0</td>\n",
              "      <td>0.0</td>\n",
              "      <td>33.6</td>\n",
              "      <td>50.0</td>\n",
              "      <td>1</td>\n",
              "    </tr>\n",
              "    <tr>\n",
              "      <th>1</th>\n",
              "      <td>1.0</td>\n",
              "      <td>85.0</td>\n",
              "      <td>66.0</td>\n",
              "      <td>29.0</td>\n",
              "      <td>0.0</td>\n",
              "      <td>26.6</td>\n",
              "      <td>31.0</td>\n",
              "      <td>0</td>\n",
              "    </tr>\n",
              "    <tr>\n",
              "      <th>2</th>\n",
              "      <td>8.0</td>\n",
              "      <td>183.0</td>\n",
              "      <td>64.0</td>\n",
              "      <td>0.0</td>\n",
              "      <td>0.0</td>\n",
              "      <td>23.3</td>\n",
              "      <td>32.0</td>\n",
              "      <td>1</td>\n",
              "    </tr>\n",
              "    <tr>\n",
              "      <th>3</th>\n",
              "      <td>1.0</td>\n",
              "      <td>89.0</td>\n",
              "      <td>66.0</td>\n",
              "      <td>23.0</td>\n",
              "      <td>94.0</td>\n",
              "      <td>28.1</td>\n",
              "      <td>21.0</td>\n",
              "      <td>0</td>\n",
              "    </tr>\n",
              "    <tr>\n",
              "      <th>4</th>\n",
              "      <td>0.0</td>\n",
              "      <td>137.0</td>\n",
              "      <td>40.0</td>\n",
              "      <td>35.0</td>\n",
              "      <td>168.0</td>\n",
              "      <td>43.1</td>\n",
              "      <td>33.0</td>\n",
              "      <td>1</td>\n",
              "    </tr>\n",
              "  </tbody>\n",
              "</table>\n",
              "</div>"
            ],
            "text/plain": [
              "   Number of times Pregnant  Plasma Concentration  Diastolic BP  \\\n",
              "0                       6.0                 148.0          72.0   \n",
              "1                       1.0                  85.0          66.0   \n",
              "2                       8.0                 183.0          64.0   \n",
              "3                       1.0                  89.0          66.0   \n",
              "4                       0.0                 137.0          40.0   \n",
              "\n",
              "   Triceps Skin fold thickness  insulin   BMI   Age  \\\n",
              "0                         35.0      0.0  33.6  50.0   \n",
              "1                         29.0      0.0  26.6  31.0   \n",
              "2                          0.0      0.0  23.3  32.0   \n",
              "3                         23.0     94.0  28.1  21.0   \n",
              "4                         35.0    168.0  43.1  33.0   \n",
              "\n",
              "   Class (1: positive for diabetes, 0: negative for diabetes)  \n",
              "0                                                  1           \n",
              "1                                                  0           \n",
              "2                                                  1           \n",
              "3                                                  0           \n",
              "4                                                  1           "
            ]
          },
          "execution_count": 5,
          "metadata": {},
          "output_type": "execute_result"
        }
      ],
      "source": [
        "data.head()"
      ]
    },
    {
      "cell_type": "code",
      "execution_count": null,
      "metadata": {
        "id": "TPLwvgb_FVX_",
        "outputId": "e8a85ba4-5497-42ab-d04f-ca964c8b3789"
      },
      "outputs": [
        {
          "data": {
            "text/plain": [
              "Index(['Number of times Pregnant', 'Plasma Concentration', 'Diastolic BP',\n",
              "       'Triceps Skin fold thickness', 'insulin', 'BMI', 'Age',\n",
              "       'Class (1: positive for diabetes, 0: negative for diabetes)'],\n",
              "      dtype='object')"
            ]
          },
          "execution_count": 6,
          "metadata": {},
          "output_type": "execute_result"
        }
      ],
      "source": [
        "data.columns"
      ]
    },
    {
      "cell_type": "code",
      "execution_count": null,
      "metadata": {
        "id": "OP0udmKcFVX_"
      },
      "outputs": [],
      "source": [
        "data.columns = ['Number of times Pregnant', 'Plasma Concentration', 'Diastolic BP',\n",
        "       'Triceps Skin fold thickness', 'insulin', 'BMI', 'Age',\n",
        "       'Class']"
      ]
    },
    {
      "cell_type": "code",
      "execution_count": null,
      "metadata": {
        "scrolled": false,
        "id": "V-J_yhF4FVYA",
        "outputId": "eeafcb01-ab8c-43b9-ab8c-d25d2cce77db"
      },
      "outputs": [
        {
          "name": "stderr",
          "output_type": "stream",
          "text": [
            "C:\\Users\\rahul\\anaconda3\\lib\\site-packages\\seaborn\\_decorators.py:36: FutureWarning: Pass the following variable as a keyword arg: x. From version 0.12, the only valid positional argument will be `data`, and passing other arguments without an explicit keyword will result in an error or misinterpretation.\n",
            "  warnings.warn(\n",
            "C:\\Users\\rahul\\anaconda3\\lib\\site-packages\\seaborn\\_decorators.py:36: FutureWarning: Pass the following variable as a keyword arg: x. From version 0.12, the only valid positional argument will be `data`, and passing other arguments without an explicit keyword will result in an error or misinterpretation.\n",
            "  warnings.warn(\n",
            "C:\\Users\\rahul\\anaconda3\\lib\\site-packages\\seaborn\\_decorators.py:36: FutureWarning: Pass the following variable as a keyword arg: x. From version 0.12, the only valid positional argument will be `data`, and passing other arguments without an explicit keyword will result in an error or misinterpretation.\n",
            "  warnings.warn(\n",
            "C:\\Users\\rahul\\anaconda3\\lib\\site-packages\\seaborn\\_decorators.py:36: FutureWarning: Pass the following variable as a keyword arg: x. From version 0.12, the only valid positional argument will be `data`, and passing other arguments without an explicit keyword will result in an error or misinterpretation.\n",
            "  warnings.warn(\n",
            "C:\\Users\\rahul\\anaconda3\\lib\\site-packages\\seaborn\\_decorators.py:36: FutureWarning: Pass the following variable as a keyword arg: x. From version 0.12, the only valid positional argument will be `data`, and passing other arguments without an explicit keyword will result in an error or misinterpretation.\n",
            "  warnings.warn(\n",
            "C:\\Users\\rahul\\anaconda3\\lib\\site-packages\\seaborn\\_decorators.py:36: FutureWarning: Pass the following variable as a keyword arg: x. From version 0.12, the only valid positional argument will be `data`, and passing other arguments without an explicit keyword will result in an error or misinterpretation.\n",
            "  warnings.warn(\n",
            "C:\\Users\\rahul\\anaconda3\\lib\\site-packages\\seaborn\\_decorators.py:36: FutureWarning: Pass the following variable as a keyword arg: x. From version 0.12, the only valid positional argument will be `data`, and passing other arguments without an explicit keyword will result in an error or misinterpretation.\n",
            "  warnings.warn(\n",
            "C:\\Users\\rahul\\anaconda3\\lib\\site-packages\\seaborn\\_decorators.py:36: FutureWarning: Pass the following variable as a keyword arg: x. From version 0.12, the only valid positional argument will be `data`, and passing other arguments without an explicit keyword will result in an error or misinterpretation.\n",
            "  warnings.warn(\n"
          ]
        },
        {
          "data": {
            "image/png": "[encoded data removed]",
            "text/plain": [
              "<Figure size 500x500 with 1 Axes>"
            ]
          },
          "metadata": {},
          "output_type": "display_data"
        },
        {
          "data": {
            "image/png": "[encoded data removed]",
            "text/plain": [
              "<Figure size 500x500 with 1 Axes>"
            ]
          },
          "metadata": {},
          "output_type": "display_data"
        },
        {
          "data": {
            "image/png": "[encoded data removed]",
            "text/plain": [
              "<Figure size 500x500 with 1 Axes>"
            ]
          },
          "metadata": {},
          "output_type": "display_data"
        },
        {
          "data": {
            "image/png": "[encoded data removed]",
            "text/plain": [
              "<Figure size 500x500 with 1 Axes>"
            ]
          },
          "metadata": {},
          "output_type": "display_data"
        },
        {
          "data": {
            "image/png": "[encoded data removed]",
            "text/plain": [
              "<Figure size 500x500 with 1 Axes>"
            ]
          },
          "metadata": {},
          "output_type": "display_data"
        },
        {
          "data": {
            "image/png": "[encoded data removed]",
            "text/plain": [
              "<Figure size 500x500 with 1 Axes>"
            ]
          },
          "metadata": {},
          "output_type": "display_data"
        },
        {
          "data": {
            "image/png": "[encoded data removed]",
            "text/plain": [
              "<Figure size 500x500 with 1 Axes>"
            ]
          },
          "metadata": {},
          "output_type": "display_data"
        },
        {
          "data": {
            "image/png": "[encoded data removed]",
            "text/plain": [
              "<Figure size 500x500 with 1 Axes>"
            ]
          },
          "metadata": {},
          "output_type": "display_data"
        }
      ],
      "source": [
        "\n",
        "for col in data.columns:\n",
        "    sns.catplot(col, data = data)"
      ]
    },
    {
      "cell_type": "code",
      "execution_count": null,
      "metadata": {
        "id": "BCump8kXFVYA"
      },
      "outputs": [],
      "source": [
        "# as there are lots of values in Plasma Concentration\tDiastolic BP\tTriceps Skin fold thickness\tinsulin\tBMI\tAge as 0\n",
        "# which is not correct i am replacing 0 with a null value and then treating all of them as null value"
      ]
    },
    {
      "cell_type": "code",
      "execution_count": null,
      "metadata": {
        "id": "Ne-sUMBOFVYA"
      },
      "outputs": [],
      "source": [
        "c = ['Plasma Concentration','Diastolic BP','Triceps Skin fold thickness','insulin','BMI','Age']\n",
        "for col in c:\n",
        "    data[col] = np.where(data[col] == 0, np.NaN, data[col])"
      ]
    },
    {
      "cell_type": "code",
      "execution_count": null,
      "metadata": {
        "id": "oabbH_7qFVYA",
        "outputId": "80a8da5e-0d70-4df6-e8ad-905f1feef4f7"
      },
      "outputs": [
        {
          "data": {
            "text/html": [
              "<div>\n",
              "<style scoped>\n",
              "    .dataframe tbody tr th:only-of-type {\n",
              "        vertical-align: middle;\n",
              "    }\n",
              "\n",
              "    .dataframe tbody tr th {\n",
              "        vertical-align: top;\n",
              "    }\n",
              "\n",
              "    .dataframe thead th {\n",
              "        text-align: right;\n",
              "    }\n",
              "</style>\n",
              "<table border=\"1\" class=\"dataframe\">\n",
              "  <thead>\n",
              "    <tr style=\"text-align: right;\">\n",
              "      <th></th>\n",
              "      <th>Number of times Pregnant</th>\n",
              "      <th>Plasma Concentration</th>\n",
              "      <th>Diastolic BP</th>\n",
              "      <th>Triceps Skin fold thickness</th>\n",
              "      <th>insulin</th>\n",
              "      <th>BMI</th>\n",
              "      <th>Age</th>\n",
              "      <th>Class</th>\n",
              "    </tr>\n",
              "  </thead>\n",
              "  <tbody>\n",
              "    <tr>\n",
              "      <th>0</th>\n",
              "      <td>6.0</td>\n",
              "      <td>148.0</td>\n",
              "      <td>72.0</td>\n",
              "      <td>35.0</td>\n",
              "      <td>NaN</td>\n",
              "      <td>33.6</td>\n",
              "      <td>50.0</td>\n",
              "      <td>1</td>\n",
              "    </tr>\n",
              "    <tr>\n",
              "      <th>1</th>\n",
              "      <td>1.0</td>\n",
              "      <td>85.0</td>\n",
              "      <td>66.0</td>\n",
              "      <td>29.0</td>\n",
              "      <td>NaN</td>\n",
              "      <td>26.6</td>\n",
              "      <td>31.0</td>\n",
              "      <td>0</td>\n",
              "    </tr>\n",
              "    <tr>\n",
              "      <th>2</th>\n",
              "      <td>8.0</td>\n",
              "      <td>183.0</td>\n",
              "      <td>64.0</td>\n",
              "      <td>NaN</td>\n",
              "      <td>NaN</td>\n",
              "      <td>23.3</td>\n",
              "      <td>32.0</td>\n",
              "      <td>1</td>\n",
              "    </tr>\n",
              "    <tr>\n",
              "      <th>3</th>\n",
              "      <td>1.0</td>\n",
              "      <td>89.0</td>\n",
              "      <td>66.0</td>\n",
              "      <td>23.0</td>\n",
              "      <td>94.0</td>\n",
              "      <td>28.1</td>\n",
              "      <td>21.0</td>\n",
              "      <td>0</td>\n",
              "    </tr>\n",
              "    <tr>\n",
              "      <th>4</th>\n",
              "      <td>0.0</td>\n",
              "      <td>137.0</td>\n",
              "      <td>40.0</td>\n",
              "      <td>35.0</td>\n",
              "      <td>168.0</td>\n",
              "      <td>43.1</td>\n",
              "      <td>33.0</td>\n",
              "      <td>1</td>\n",
              "    </tr>\n",
              "    <tr>\n",
              "      <th>...</th>\n",
              "      <td>...</td>\n",
              "      <td>...</td>\n",
              "      <td>...</td>\n",
              "      <td>...</td>\n",
              "      <td>...</td>\n",
              "      <td>...</td>\n",
              "      <td>...</td>\n",
              "      <td>...</td>\n",
              "    </tr>\n",
              "    <tr>\n",
              "      <th>763</th>\n",
              "      <td>10.0</td>\n",
              "      <td>101.0</td>\n",
              "      <td>76.0</td>\n",
              "      <td>48.0</td>\n",
              "      <td>180.0</td>\n",
              "      <td>32.9</td>\n",
              "      <td>63.0</td>\n",
              "      <td>0</td>\n",
              "    </tr>\n",
              "    <tr>\n",
              "      <th>764</th>\n",
              "      <td>2.0</td>\n",
              "      <td>122.0</td>\n",
              "      <td>70.0</td>\n",
              "      <td>27.0</td>\n",
              "      <td>NaN</td>\n",
              "      <td>36.8</td>\n",
              "      <td>27.0</td>\n",
              "      <td>0</td>\n",
              "    </tr>\n",
              "    <tr>\n",
              "      <th>765</th>\n",
              "      <td>5.0</td>\n",
              "      <td>121.0</td>\n",
              "      <td>72.0</td>\n",
              "      <td>23.0</td>\n",
              "      <td>112.0</td>\n",
              "      <td>26.2</td>\n",
              "      <td>30.0</td>\n",
              "      <td>0</td>\n",
              "    </tr>\n",
              "    <tr>\n",
              "      <th>766</th>\n",
              "      <td>1.0</td>\n",
              "      <td>126.0</td>\n",
              "      <td>60.0</td>\n",
              "      <td>NaN</td>\n",
              "      <td>NaN</td>\n",
              "      <td>30.1</td>\n",
              "      <td>47.0</td>\n",
              "      <td>1</td>\n",
              "    </tr>\n",
              "    <tr>\n",
              "      <th>767</th>\n",
              "      <td>1.0</td>\n",
              "      <td>NaN</td>\n",
              "      <td>70.0</td>\n",
              "      <td>31.0</td>\n",
              "      <td>NaN</td>\n",
              "      <td>30.4</td>\n",
              "      <td>23.0</td>\n",
              "      <td>0</td>\n",
              "    </tr>\n",
              "  </tbody>\n",
              "</table>\n",
              "<p>768 rows × 8 columns</p>\n",
              "</div>"
            ],
            "text/plain": [
              "     Number of times Pregnant  Plasma Concentration  Diastolic BP  \\\n",
              "0                         6.0                 148.0          72.0   \n",
              "1                         1.0                  85.0          66.0   \n",
              "2                         8.0                 183.0          64.0   \n",
              "3                         1.0                  89.0          66.0   \n",
              "4                         0.0                 137.0          40.0   \n",
              "..                        ...                   ...           ...   \n",
              "763                      10.0                 101.0          76.0   \n",
              "764                       2.0                 122.0          70.0   \n",
              "765                       5.0                 121.0          72.0   \n",
              "766                       1.0                 126.0          60.0   \n",
              "767                       1.0                   NaN          70.0   \n",
              "\n",
              "     Triceps Skin fold thickness  insulin   BMI   Age  Class  \n",
              "0                           35.0      NaN  33.6  50.0      1  \n",
              "1                           29.0      NaN  26.6  31.0      0  \n",
              "2                            NaN      NaN  23.3  32.0      1  \n",
              "3                           23.0     94.0  28.1  21.0      0  \n",
              "4                           35.0    168.0  43.1  33.0      1  \n",
              "..                           ...      ...   ...   ...    ...  \n",
              "763                         48.0    180.0  32.9  63.0      0  \n",
              "764                         27.0      NaN  36.8  27.0      0  \n",
              "765                         23.0    112.0  26.2  30.0      0  \n",
              "766                          NaN      NaN  30.1  47.0      1  \n",
              "767                         31.0      NaN  30.4  23.0      0  \n",
              "\n",
              "[768 rows x 8 columns]"
            ]
          },
          "execution_count": 11,
          "metadata": {},
          "output_type": "execute_result"
        }
      ],
      "source": [
        "data"
      ]
    },
    {
      "cell_type": "code",
      "execution_count": null,
      "metadata": {
        "scrolled": true,
        "id": "usFkzeXCFVYB",
        "outputId": "4ee448d1-2299-4fa4-f677-00859320c92e"
      },
      "outputs": [
        {
          "name": "stdout",
          "output_type": "stream",
          "text": [
            "<class 'pandas.core.frame.DataFrame'>\n",
            "RangeIndex: 768 entries, 0 to 767\n",
            "Data columns (total 8 columns):\n",
            " #   Column                       Non-Null Count  Dtype  \n",
            "---  ------                       --------------  -----  \n",
            " 0   Number of times Pregnant     766 non-null    float64\n",
            " 1   Plasma Concentration         762 non-null    float64\n",
            " 2   Diastolic BP                 729 non-null    float64\n",
            " 3   Triceps Skin fold thickness  540 non-null    float64\n",
            " 4   insulin                      392 non-null    float64\n",
            " 5   BMI                          754 non-null    float64\n",
            " 6   Age                          766 non-null    float64\n",
            " 7   Class                        768 non-null    int64  \n",
            "dtypes: float64(7), int64(1)\n",
            "memory usage: 48.1 KB\n"
          ]
        }
      ],
      "source": [
        "data.info()"
      ]
    },
    {
      "cell_type": "code",
      "execution_count": null,
      "metadata": {
        "id": "cMfTkBlMFVYB",
        "outputId": "b881894c-d5bf-4bdc-d4da-c65237f9ab72"
      },
      "outputs": [
        {
          "data": {
            "text/plain": [
              "Number of times Pregnant         2\n",
              "Plasma Concentration             6\n",
              "Diastolic BP                    39\n",
              "Triceps Skin fold thickness    228\n",
              "insulin                        376\n",
              "BMI                             14\n",
              "Age                              2\n",
              "Class                            0\n",
              "dtype: int64"
            ]
          },
          "execution_count": 13,
          "metadata": {},
          "output_type": "execute_result"
        }
      ],
      "source": [
        "data.isna().sum()"
      ]
    },
    {
      "cell_type": "markdown",
      "metadata": {
        "id": "bKLcIfSEFVYB"
      },
      "source": [
        "## working on null values"
      ]
    },
    {
      "cell_type": "code",
      "execution_count": null,
      "metadata": {
        "id": "lkcd0uW4FVYC",
        "outputId": "764ee9be-d5a9-4490-a53c-9e5de037d576"
      },
      "outputs": [
        {
          "data": {
            "text/plain": [
              "2"
            ]
          },
          "execution_count": 14,
          "metadata": {},
          "output_type": "execute_result"
        }
      ],
      "source": [
        "data['Number of times Pregnant'].isna().sum()"
      ]
    },
    {
      "cell_type": "code",
      "execution_count": null,
      "metadata": {
        "id": "2r-YZ1XyFVYC",
        "outputId": "4429f5fd-d29f-4c54-8fea-30d1c7d9e4d6"
      },
      "outputs": [
        {
          "data": {
            "text/html": [
              "<div>\n",
              "<style scoped>\n",
              "    .dataframe tbody tr th:only-of-type {\n",
              "        vertical-align: middle;\n",
              "    }\n",
              "\n",
              "    .dataframe tbody tr th {\n",
              "        vertical-align: top;\n",
              "    }\n",
              "\n",
              "    .dataframe thead th {\n",
              "        text-align: right;\n",
              "    }\n",
              "</style>\n",
              "<table border=\"1\" class=\"dataframe\">\n",
              "  <thead>\n",
              "    <tr style=\"text-align: right;\">\n",
              "      <th></th>\n",
              "      <th>Number of times Pregnant</th>\n",
              "      <th>Plasma Concentration</th>\n",
              "      <th>Diastolic BP</th>\n",
              "      <th>Triceps Skin fold thickness</th>\n",
              "      <th>insulin</th>\n",
              "      <th>BMI</th>\n",
              "      <th>Age</th>\n",
              "      <th>Class</th>\n",
              "    </tr>\n",
              "  </thead>\n",
              "  <tbody>\n",
              "    <tr>\n",
              "      <th>118</th>\n",
              "      <td>NaN</td>\n",
              "      <td>97.0</td>\n",
              "      <td>60.0</td>\n",
              "      <td>23.0</td>\n",
              "      <td>NaN</td>\n",
              "      <td>28.2</td>\n",
              "      <td>22.0</td>\n",
              "      <td>0</td>\n",
              "    </tr>\n",
              "    <tr>\n",
              "      <th>218</th>\n",
              "      <td>NaN</td>\n",
              "      <td>85.0</td>\n",
              "      <td>74.0</td>\n",
              "      <td>22.0</td>\n",
              "      <td>NaN</td>\n",
              "      <td>29.0</td>\n",
              "      <td>32.0</td>\n",
              "      <td>1</td>\n",
              "    </tr>\n",
              "  </tbody>\n",
              "</table>\n",
              "</div>"
            ],
            "text/plain": [
              "     Number of times Pregnant  Plasma Concentration  Diastolic BP  \\\n",
              "118                       NaN                  97.0          60.0   \n",
              "218                       NaN                  85.0          74.0   \n",
              "\n",
              "     Triceps Skin fold thickness  insulin   BMI   Age  Class  \n",
              "118                         23.0      NaN  28.2  22.0      0  \n",
              "218                         22.0      NaN  29.0  32.0      1  "
            ]
          },
          "execution_count": 15,
          "metadata": {},
          "output_type": "execute_result"
        }
      ],
      "source": [
        "data[data['Number of times Pregnant'].isna()]"
      ]
    },
    {
      "cell_type": "code",
      "execution_count": null,
      "metadata": {
        "id": "v_KUxEOdFVYC",
        "outputId": "3c7b9df9-583d-4fc4-dd4f-dda23f59628d"
      },
      "outputs": [
        {
          "data": {
            "text/plain": [
              " 1.0     135\n",
              " 0.0     111\n",
              " 2.0     103\n",
              " 3.0      75\n",
              " 4.0      67\n",
              " 5.0      56\n",
              " 6.0      50\n",
              " 7.0      45\n",
              " 8.0      38\n",
              " 9.0      28\n",
              " 10.0     24\n",
              " 11.0     11\n",
              " 13.0      9\n",
              " 12.0      9\n",
              " 14.0      2\n",
              " 15.0      1\n",
              " 17.0      1\n",
              "-13.0      1\n",
              "Name: Number of times Pregnant, dtype: int64"
            ]
          },
          "execution_count": 16,
          "metadata": {},
          "output_type": "execute_result"
        }
      ],
      "source": [
        "data['Number of times Pregnant'].mode()\n",
        "data['Number of times Pregnant'].value_counts()"
      ]
    },
    {
      "cell_type": "code",
      "execution_count": null,
      "metadata": {
        "id": "NrMJsH6WFVYD",
        "outputId": "d083bcb3-13a5-4e29-dbd6-565bdee051eb"
      },
      "outputs": [
        {
          "data": {
            "text/html": [
              "<div>\n",
              "<style scoped>\n",
              "    .dataframe tbody tr th:only-of-type {\n",
              "        vertical-align: middle;\n",
              "    }\n",
              "\n",
              "    .dataframe tbody tr th {\n",
              "        vertical-align: top;\n",
              "    }\n",
              "\n",
              "    .dataframe thead th {\n",
              "        text-align: right;\n",
              "    }\n",
              "</style>\n",
              "<table border=\"1\" class=\"dataframe\">\n",
              "  <thead>\n",
              "    <tr style=\"text-align: right;\">\n",
              "      <th></th>\n",
              "      <th></th>\n",
              "      <th>Class</th>\n",
              "    </tr>\n",
              "    <tr>\n",
              "      <th>Number of times Pregnant</th>\n",
              "      <th>Class</th>\n",
              "      <th></th>\n",
              "    </tr>\n",
              "  </thead>\n",
              "  <tbody>\n",
              "    <tr>\n",
              "      <th rowspan=\"2\" valign=\"top\">0.0</th>\n",
              "      <th>0</th>\n",
              "      <td>73</td>\n",
              "    </tr>\n",
              "    <tr>\n",
              "      <th>1</th>\n",
              "      <td>38</td>\n",
              "    </tr>\n",
              "    <tr>\n",
              "      <th rowspan=\"2\" valign=\"top\">1.0</th>\n",
              "      <th>0</th>\n",
              "      <td>106</td>\n",
              "    </tr>\n",
              "    <tr>\n",
              "      <th>1</th>\n",
              "      <td>29</td>\n",
              "    </tr>\n",
              "  </tbody>\n",
              "</table>\n",
              "</div>"
            ],
            "text/plain": [
              "                                Class\n",
              "Number of times Pregnant Class       \n",
              "0.0                      0         73\n",
              "                         1         38\n",
              "1.0                      0        106\n",
              "                         1         29"
            ]
          },
          "execution_count": 17,
          "metadata": {},
          "output_type": "execute_result"
        }
      ],
      "source": [
        "pd.pivot_table(data[(data['Number of times Pregnant'] == 0) | (data['Number of times Pregnant'] == 1)], index = ['Number of times Pregnant', 'Class'], aggfunc= {'Class': 'count'})"
      ]
    },
    {
      "cell_type": "code",
      "execution_count": null,
      "metadata": {
        "id": "GcINZ4a8FVYD"
      },
      "outputs": [],
      "source": [
        "data['Number of times Pregnant'].fillna(0, inplace = True)"
      ]
    },
    {
      "cell_type": "code",
      "execution_count": null,
      "metadata": {
        "id": "GDC9O3q5FVYD",
        "outputId": "091e8fe0-26f4-4e2a-c302-098d7f42356d"
      },
      "outputs": [
        {
          "data": {
            "text/plain": [
              " 1.0     135\n",
              " 0.0     113\n",
              " 2.0     103\n",
              " 3.0      75\n",
              " 4.0      67\n",
              " 5.0      56\n",
              " 6.0      50\n",
              " 7.0      45\n",
              " 8.0      38\n",
              " 9.0      28\n",
              " 10.0     24\n",
              " 11.0     11\n",
              " 13.0      9\n",
              " 12.0      9\n",
              " 14.0      2\n",
              " 15.0      1\n",
              " 17.0      1\n",
              "-13.0      1\n",
              "Name: Number of times Pregnant, dtype: int64"
            ]
          },
          "execution_count": 19,
          "metadata": {},
          "output_type": "execute_result"
        }
      ],
      "source": [
        "data['Number of times Pregnant'].value_counts()"
      ]
    },
    {
      "cell_type": "code",
      "execution_count": null,
      "metadata": {
        "id": "0NOxaRXNFVYD"
      },
      "outputs": [],
      "source": [
        "data['Number of times Pregnant'] = np.where(data['Number of times Pregnant'] < 0, data['Number of times Pregnant']*(-1), data['Number of times Pregnant'])"
      ]
    },
    {
      "cell_type": "code",
      "execution_count": null,
      "metadata": {
        "id": "xdRHxFGaFVYD",
        "outputId": "16bbb84c-c36b-4798-a2be-9e8d9a59ff3f"
      },
      "outputs": [
        {
          "data": {
            "text/plain": [
              "1.0     135\n",
              "0.0     113\n",
              "2.0     103\n",
              "3.0      75\n",
              "4.0      67\n",
              "5.0      56\n",
              "6.0      50\n",
              "7.0      45\n",
              "8.0      38\n",
              "9.0      28\n",
              "10.0     24\n",
              "11.0     11\n",
              "13.0     10\n",
              "12.0      9\n",
              "14.0      2\n",
              "15.0      1\n",
              "17.0      1\n",
              "Name: Number of times Pregnant, dtype: int64"
            ]
          },
          "execution_count": 21,
          "metadata": {},
          "output_type": "execute_result"
        }
      ],
      "source": [
        "data['Number of times Pregnant'].value_counts()"
      ]
    },
    {
      "cell_type": "markdown",
      "metadata": {
        "id": "_g2PJjTEFVYD"
      },
      "source": [
        "####### a limit of about 40 pregnancies actually is probable, so i condier 17 as a correct number"
      ]
    },
    {
      "cell_type": "code",
      "execution_count": null,
      "metadata": {
        "id": "skRYKxhHFVYD",
        "outputId": "fb432b81-d6bc-43bc-fd77-cda0d351cb15"
      },
      "outputs": [
        {
          "data": {
            "text/plain": [
              "Number of times Pregnant         0\n",
              "Plasma Concentration             6\n",
              "Diastolic BP                    39\n",
              "Triceps Skin fold thickness    228\n",
              "insulin                        376\n",
              "BMI                             14\n",
              "Age                              2\n",
              "Class                            0\n",
              "dtype: int64"
            ]
          },
          "execution_count": 22,
          "metadata": {},
          "output_type": "execute_result"
        }
      ],
      "source": [
        "data.isna().sum()"
      ]
    },
    {
      "cell_type": "code",
      "execution_count": null,
      "metadata": {
        "id": "tb9ZHa-9FVYD",
        "outputId": "23bd36e5-04ac-4e58-c05a-910cfc9ad8f8"
      },
      "outputs": [
        {
          "name": "stderr",
          "output_type": "stream",
          "text": [
            "C:\\ProgramData\\Anaconda3\\lib\\site-packages\\seaborn\\_decorators.py:36: FutureWarning: Pass the following variable as a keyword arg: x. From version 0.12, the only valid positional argument will be `data`, and passing other arguments without an explicit keyword will result in an error or misinterpretation.\n",
            "  warnings.warn(\n"
          ]
        },
        {
          "data": {
            "text/plain": [
              "<AxesSubplot:xlabel='Plasma Concentration'>"
            ]
          },
          "execution_count": 23,
          "metadata": {},
          "output_type": "execute_result"
        },
        {
          "data": {
            "image/png": "[encoded data removed]",
            "text/plain": [
              "<Figure size 432x288 with 1 Axes>"
            ]
          },
          "metadata": {
            "needs_background": "light"
          },
          "output_type": "display_data"
        }
      ],
      "source": [
        "sns.boxplot(data['Plasma Concentration'])"
      ]
    },
    {
      "cell_type": "code",
      "execution_count": null,
      "metadata": {
        "id": "HMT1c8VyFVYD"
      },
      "outputs": [],
      "source": [
        "data['Plasma Concentration'] = np.where(data['Plasma Concentration'] > 300, np.NaN, data['Plasma Concentration'])"
      ]
    },
    {
      "cell_type": "code",
      "execution_count": null,
      "metadata": {
        "scrolled": false,
        "id": "K8Sw9-keFVYD",
        "outputId": "3ee4e659-0bf1-4a6a-ad4f-5feb2633f631"
      },
      "outputs": [
        {
          "data": {
            "text/html": [
              "<div>\n",
              "<style scoped>\n",
              "    .dataframe tbody tr th:only-of-type {\n",
              "        vertical-align: middle;\n",
              "    }\n",
              "\n",
              "    .dataframe tbody tr th {\n",
              "        vertical-align: top;\n",
              "    }\n",
              "\n",
              "    .dataframe thead th {\n",
              "        text-align: right;\n",
              "    }\n",
              "</style>\n",
              "<table border=\"1\" class=\"dataframe\">\n",
              "  <thead>\n",
              "    <tr style=\"text-align: right;\">\n",
              "      <th></th>\n",
              "      <th>Number of times Pregnant</th>\n",
              "      <th>Plasma Concentration</th>\n",
              "      <th>Diastolic BP</th>\n",
              "      <th>Triceps Skin fold thickness</th>\n",
              "      <th>insulin</th>\n",
              "      <th>BMI</th>\n",
              "      <th>Age</th>\n",
              "      <th>Class</th>\n",
              "    </tr>\n",
              "  </thead>\n",
              "  <tbody>\n",
              "    <tr>\n",
              "      <th>75</th>\n",
              "      <td>1.0</td>\n",
              "      <td>NaN</td>\n",
              "      <td>48.0</td>\n",
              "      <td>20.0</td>\n",
              "      <td>NaN</td>\n",
              "      <td>24.7</td>\n",
              "      <td>22.0</td>\n",
              "      <td>0</td>\n",
              "    </tr>\n",
              "    <tr>\n",
              "      <th>182</th>\n",
              "      <td>1.0</td>\n",
              "      <td>NaN</td>\n",
              "      <td>74.0</td>\n",
              "      <td>20.0</td>\n",
              "      <td>23.0</td>\n",
              "      <td>27.7</td>\n",
              "      <td>21.0</td>\n",
              "      <td>0</td>\n",
              "    </tr>\n",
              "    <tr>\n",
              "      <th>342</th>\n",
              "      <td>1.0</td>\n",
              "      <td>NaN</td>\n",
              "      <td>68.0</td>\n",
              "      <td>35.0</td>\n",
              "      <td>NaN</td>\n",
              "      <td>32.0</td>\n",
              "      <td>22.0</td>\n",
              "      <td>0</td>\n",
              "    </tr>\n",
              "    <tr>\n",
              "      <th>349</th>\n",
              "      <td>5.0</td>\n",
              "      <td>NaN</td>\n",
              "      <td>80.0</td>\n",
              "      <td>32.0</td>\n",
              "      <td>NaN</td>\n",
              "      <td>41.0</td>\n",
              "      <td>37.0</td>\n",
              "      <td>1</td>\n",
              "    </tr>\n",
              "    <tr>\n",
              "      <th>502</th>\n",
              "      <td>6.0</td>\n",
              "      <td>NaN</td>\n",
              "      <td>68.0</td>\n",
              "      <td>41.0</td>\n",
              "      <td>NaN</td>\n",
              "      <td>39.0</td>\n",
              "      <td>41.0</td>\n",
              "      <td>1</td>\n",
              "    </tr>\n",
              "    <tr>\n",
              "      <th>667</th>\n",
              "      <td>10.0</td>\n",
              "      <td>NaN</td>\n",
              "      <td>70.0</td>\n",
              "      <td>27.0</td>\n",
              "      <td>NaN</td>\n",
              "      <td>27.5</td>\n",
              "      <td>40.0</td>\n",
              "      <td>1</td>\n",
              "    </tr>\n",
              "    <tr>\n",
              "      <th>767</th>\n",
              "      <td>1.0</td>\n",
              "      <td>NaN</td>\n",
              "      <td>70.0</td>\n",
              "      <td>31.0</td>\n",
              "      <td>NaN</td>\n",
              "      <td>30.4</td>\n",
              "      <td>23.0</td>\n",
              "      <td>0</td>\n",
              "    </tr>\n",
              "  </tbody>\n",
              "</table>\n",
              "</div>"
            ],
            "text/plain": [
              "     Number of times Pregnant  Plasma Concentration  Diastolic BP  \\\n",
              "75                        1.0                   NaN          48.0   \n",
              "182                       1.0                   NaN          74.0   \n",
              "342                       1.0                   NaN          68.0   \n",
              "349                       5.0                   NaN          80.0   \n",
              "502                       6.0                   NaN          68.0   \n",
              "667                      10.0                   NaN          70.0   \n",
              "767                       1.0                   NaN          70.0   \n",
              "\n",
              "     Triceps Skin fold thickness  insulin   BMI   Age  Class  \n",
              "75                          20.0      NaN  24.7  22.0      0  \n",
              "182                         20.0     23.0  27.7  21.0      0  \n",
              "342                         35.0      NaN  32.0  22.0      0  \n",
              "349                         32.0      NaN  41.0  37.0      1  \n",
              "502                         41.0      NaN  39.0  41.0      1  \n",
              "667                         27.0      NaN  27.5  40.0      1  \n",
              "767                         31.0      NaN  30.4  23.0      0  "
            ]
          },
          "execution_count": 25,
          "metadata": {},
          "output_type": "execute_result"
        }
      ],
      "source": [
        "data[data['Plasma Concentration'].isna() == True]"
      ]
    },
    {
      "cell_type": "code",
      "execution_count": null,
      "metadata": {
        "id": "UjA-5Gv1FVYE",
        "outputId": "b33fc586-1a9d-45b5-b2bf-607881381186"
      },
      "outputs": [
        {
          "data": {
            "text/plain": [
              "121.73850197109067"
            ]
          },
          "execution_count": 26,
          "metadata": {},
          "output_type": "execute_result"
        }
      ],
      "source": [
        "data['Plasma Concentration'].mean()\n"
      ]
    },
    {
      "cell_type": "code",
      "execution_count": null,
      "metadata": {
        "scrolled": true,
        "id": "GDl-R3qkFVYE",
        "outputId": "191311f4-43af-4514-aaae-e3bbb4ec25c4"
      },
      "outputs": [
        {
          "name": "stdout",
          "output_type": "stream",
          "text": [
            "110.67943548387096\n",
            "142.4377358490566\n"
          ]
        }
      ],
      "source": [
        "print(data[data['Class'] == 0]['Plasma Concentration'].mean())\n",
        "print(data[data['Class'] == 1]['Plasma Concentration'].mean())\n"
      ]
    },
    {
      "cell_type": "code",
      "execution_count": null,
      "metadata": {
        "id": "7JwfBvLgFVYE"
      },
      "outputs": [],
      "source": [
        "data.loc[(data[\"Class\"]==0) & (data['Plasma Concentration'].isnull()),'Plasma Concentration'] = data[data[\"Class\"]==0]['Plasma Concentration'].mean()\n",
        "data.loc[(data[\"Class\"]==1) & (data['Plasma Concentration'].isnull()),'Plasma Concentration'] = data[data[\"Class\"]==1]['Plasma Concentration'].mean()\n"
      ]
    },
    {
      "cell_type": "code",
      "execution_count": null,
      "metadata": {
        "scrolled": true,
        "id": "xj1cTju1FVYE",
        "outputId": "79613a8f-73fd-4985-98f3-1c8aba6fa963"
      },
      "outputs": [
        {
          "data": {
            "text/plain": [
              "0"
            ]
          },
          "execution_count": 29,
          "metadata": {},
          "output_type": "execute_result"
        }
      ],
      "source": [
        "data[data['Class'] == 1]['Plasma Concentration'].isna().sum()"
      ]
    },
    {
      "cell_type": "code",
      "execution_count": null,
      "metadata": {
        "id": "Vkm_h0IhFVYE",
        "outputId": "920600eb-5e57-4f52-c558-fe36383d8767"
      },
      "outputs": [
        {
          "data": {
            "text/plain": [
              "0"
            ]
          },
          "execution_count": 30,
          "metadata": {},
          "output_type": "execute_result"
        }
      ],
      "source": [
        "data[data['Class'] == 0]['Plasma Concentration'].isna().sum()"
      ]
    },
    {
      "cell_type": "code",
      "execution_count": null,
      "metadata": {
        "scrolled": true,
        "id": "j1R8_kwVFVYE",
        "outputId": "105ffdcf-872f-4d2b-ff38-83722cf0cfb0"
      },
      "outputs": [
        {
          "data": {
            "text/plain": [
              "Number of times Pregnant         0\n",
              "Plasma Concentration             0\n",
              "Diastolic BP                    39\n",
              "Triceps Skin fold thickness    228\n",
              "insulin                        376\n",
              "BMI                             14\n",
              "Age                              2\n",
              "Class                            0\n",
              "dtype: int64"
            ]
          },
          "execution_count": 31,
          "metadata": {},
          "output_type": "execute_result"
        }
      ],
      "source": [
        "data.isna().sum()"
      ]
    },
    {
      "cell_type": "code",
      "execution_count": null,
      "metadata": {
        "id": "zMNvt5EhFVYE",
        "outputId": "2062d931-49ee-45de-ddab-e4e987efa5ca"
      },
      "outputs": [
        {
          "data": {
            "text/html": [
              "<div>\n",
              "<style scoped>\n",
              "    .dataframe tbody tr th:only-of-type {\n",
              "        vertical-align: middle;\n",
              "    }\n",
              "\n",
              "    .dataframe tbody tr th {\n",
              "        vertical-align: top;\n",
              "    }\n",
              "\n",
              "    .dataframe thead th {\n",
              "        text-align: right;\n",
              "    }\n",
              "</style>\n",
              "<table border=\"1\" class=\"dataframe\">\n",
              "  <thead>\n",
              "    <tr style=\"text-align: right;\">\n",
              "      <th></th>\n",
              "      <th>Number of times Pregnant</th>\n",
              "      <th>Plasma Concentration</th>\n",
              "      <th>Diastolic BP</th>\n",
              "      <th>Triceps Skin fold thickness</th>\n",
              "      <th>insulin</th>\n",
              "      <th>BMI</th>\n",
              "      <th>Age</th>\n",
              "      <th>Class</th>\n",
              "    </tr>\n",
              "  </thead>\n",
              "  <tbody>\n",
              "    <tr>\n",
              "      <th>7</th>\n",
              "      <td>10.0</td>\n",
              "      <td>115.0</td>\n",
              "      <td>NaN</td>\n",
              "      <td>NaN</td>\n",
              "      <td>NaN</td>\n",
              "      <td>35.3</td>\n",
              "      <td>29.0</td>\n",
              "      <td>0</td>\n",
              "    </tr>\n",
              "    <tr>\n",
              "      <th>15</th>\n",
              "      <td>7.0</td>\n",
              "      <td>100.0</td>\n",
              "      <td>NaN</td>\n",
              "      <td>NaN</td>\n",
              "      <td>NaN</td>\n",
              "      <td>30.0</td>\n",
              "      <td>32.0</td>\n",
              "      <td>1</td>\n",
              "    </tr>\n",
              "    <tr>\n",
              "      <th>25</th>\n",
              "      <td>10.0</td>\n",
              "      <td>125.0</td>\n",
              "      <td>NaN</td>\n",
              "      <td>26.0</td>\n",
              "      <td>115.0</td>\n",
              "      <td>31.1</td>\n",
              "      <td>41.0</td>\n",
              "      <td>1</td>\n",
              "    </tr>\n",
              "    <tr>\n",
              "      <th>49</th>\n",
              "      <td>7.0</td>\n",
              "      <td>105.0</td>\n",
              "      <td>NaN</td>\n",
              "      <td>NaN</td>\n",
              "      <td>NaN</td>\n",
              "      <td>NaN</td>\n",
              "      <td>24.0</td>\n",
              "      <td>0</td>\n",
              "    </tr>\n",
              "    <tr>\n",
              "      <th>60</th>\n",
              "      <td>2.0</td>\n",
              "      <td>84.0</td>\n",
              "      <td>NaN</td>\n",
              "      <td>NaN</td>\n",
              "      <td>NaN</td>\n",
              "      <td>NaN</td>\n",
              "      <td>21.0</td>\n",
              "      <td>0</td>\n",
              "    </tr>\n",
              "    <tr>\n",
              "      <th>78</th>\n",
              "      <td>0.0</td>\n",
              "      <td>131.0</td>\n",
              "      <td>NaN</td>\n",
              "      <td>NaN</td>\n",
              "      <td>NaN</td>\n",
              "      <td>43.2</td>\n",
              "      <td>26.0</td>\n",
              "      <td>1</td>\n",
              "    </tr>\n",
              "    <tr>\n",
              "      <th>81</th>\n",
              "      <td>2.0</td>\n",
              "      <td>74.0</td>\n",
              "      <td>NaN</td>\n",
              "      <td>NaN</td>\n",
              "      <td>NaN</td>\n",
              "      <td>NaN</td>\n",
              "      <td>22.0</td>\n",
              "      <td>0</td>\n",
              "    </tr>\n",
              "    <tr>\n",
              "      <th>83</th>\n",
              "      <td>0.0</td>\n",
              "      <td>101.0</td>\n",
              "      <td>NaN</td>\n",
              "      <td>28.0</td>\n",
              "      <td>NaN</td>\n",
              "      <td>24.6</td>\n",
              "      <td>22.0</td>\n",
              "      <td>0</td>\n",
              "    </tr>\n",
              "    <tr>\n",
              "      <th>172</th>\n",
              "      <td>2.0</td>\n",
              "      <td>87.0</td>\n",
              "      <td>NaN</td>\n",
              "      <td>23.0</td>\n",
              "      <td>NaN</td>\n",
              "      <td>28.9</td>\n",
              "      <td>25.0</td>\n",
              "      <td>0</td>\n",
              "    </tr>\n",
              "    <tr>\n",
              "      <th>193</th>\n",
              "      <td>11.0</td>\n",
              "      <td>135.0</td>\n",
              "      <td>NaN</td>\n",
              "      <td>NaN</td>\n",
              "      <td>NaN</td>\n",
              "      <td>52.3</td>\n",
              "      <td>40.0</td>\n",
              "      <td>1</td>\n",
              "    </tr>\n",
              "    <tr>\n",
              "      <th>222</th>\n",
              "      <td>7.0</td>\n",
              "      <td>119.0</td>\n",
              "      <td>NaN</td>\n",
              "      <td>NaN</td>\n",
              "      <td>NaN</td>\n",
              "      <td>25.2</td>\n",
              "      <td>37.0</td>\n",
              "      <td>0</td>\n",
              "    </tr>\n",
              "    <tr>\n",
              "      <th>232</th>\n",
              "      <td>1.0</td>\n",
              "      <td>79.0</td>\n",
              "      <td>NaN</td>\n",
              "      <td>25.0</td>\n",
              "      <td>37.0</td>\n",
              "      <td>25.4</td>\n",
              "      <td>22.0</td>\n",
              "      <td>0</td>\n",
              "    </tr>\n",
              "    <tr>\n",
              "      <th>261</th>\n",
              "      <td>3.0</td>\n",
              "      <td>141.0</td>\n",
              "      <td>NaN</td>\n",
              "      <td>NaN</td>\n",
              "      <td>NaN</td>\n",
              "      <td>30.0</td>\n",
              "      <td>27.0</td>\n",
              "      <td>1</td>\n",
              "    </tr>\n",
              "    <tr>\n",
              "      <th>266</th>\n",
              "      <td>0.0</td>\n",
              "      <td>138.0</td>\n",
              "      <td>NaN</td>\n",
              "      <td>NaN</td>\n",
              "      <td>NaN</td>\n",
              "      <td>36.3</td>\n",
              "      <td>25.0</td>\n",
              "      <td>1</td>\n",
              "    </tr>\n",
              "    <tr>\n",
              "      <th>269</th>\n",
              "      <td>2.0</td>\n",
              "      <td>146.0</td>\n",
              "      <td>NaN</td>\n",
              "      <td>NaN</td>\n",
              "      <td>NaN</td>\n",
              "      <td>27.5</td>\n",
              "      <td>28.0</td>\n",
              "      <td>1</td>\n",
              "    </tr>\n",
              "    <tr>\n",
              "      <th>300</th>\n",
              "      <td>0.0</td>\n",
              "      <td>167.0</td>\n",
              "      <td>NaN</td>\n",
              "      <td>NaN</td>\n",
              "      <td>NaN</td>\n",
              "      <td>32.3</td>\n",
              "      <td>30.0</td>\n",
              "      <td>1</td>\n",
              "    </tr>\n",
              "    <tr>\n",
              "      <th>332</th>\n",
              "      <td>1.0</td>\n",
              "      <td>180.0</td>\n",
              "      <td>NaN</td>\n",
              "      <td>NaN</td>\n",
              "      <td>NaN</td>\n",
              "      <td>43.3</td>\n",
              "      <td>41.0</td>\n",
              "      <td>1</td>\n",
              "    </tr>\n",
              "    <tr>\n",
              "      <th>336</th>\n",
              "      <td>0.0</td>\n",
              "      <td>117.0</td>\n",
              "      <td>NaN</td>\n",
              "      <td>NaN</td>\n",
              "      <td>NaN</td>\n",
              "      <td>33.8</td>\n",
              "      <td>44.0</td>\n",
              "      <td>0</td>\n",
              "    </tr>\n",
              "    <tr>\n",
              "      <th>347</th>\n",
              "      <td>3.0</td>\n",
              "      <td>116.0</td>\n",
              "      <td>NaN</td>\n",
              "      <td>NaN</td>\n",
              "      <td>NaN</td>\n",
              "      <td>23.5</td>\n",
              "      <td>23.0</td>\n",
              "      <td>0</td>\n",
              "    </tr>\n",
              "    <tr>\n",
              "      <th>357</th>\n",
              "      <td>13.0</td>\n",
              "      <td>129.0</td>\n",
              "      <td>NaN</td>\n",
              "      <td>30.0</td>\n",
              "      <td>NaN</td>\n",
              "      <td>39.9</td>\n",
              "      <td>44.0</td>\n",
              "      <td>1</td>\n",
              "    </tr>\n",
              "    <tr>\n",
              "      <th>426</th>\n",
              "      <td>0.0</td>\n",
              "      <td>94.0</td>\n",
              "      <td>NaN</td>\n",
              "      <td>NaN</td>\n",
              "      <td>NaN</td>\n",
              "      <td>NaN</td>\n",
              "      <td>25.0</td>\n",
              "      <td>0</td>\n",
              "    </tr>\n",
              "    <tr>\n",
              "      <th>430</th>\n",
              "      <td>2.0</td>\n",
              "      <td>99.0</td>\n",
              "      <td>NaN</td>\n",
              "      <td>NaN</td>\n",
              "      <td>NaN</td>\n",
              "      <td>22.2</td>\n",
              "      <td>23.0</td>\n",
              "      <td>0</td>\n",
              "    </tr>\n",
              "    <tr>\n",
              "      <th>435</th>\n",
              "      <td>0.0</td>\n",
              "      <td>141.0</td>\n",
              "      <td>NaN</td>\n",
              "      <td>NaN</td>\n",
              "      <td>NaN</td>\n",
              "      <td>42.4</td>\n",
              "      <td>29.0</td>\n",
              "      <td>1</td>\n",
              "    </tr>\n",
              "    <tr>\n",
              "      <th>453</th>\n",
              "      <td>2.0</td>\n",
              "      <td>119.0</td>\n",
              "      <td>NaN</td>\n",
              "      <td>NaN</td>\n",
              "      <td>NaN</td>\n",
              "      <td>19.6</td>\n",
              "      <td>72.0</td>\n",
              "      <td>0</td>\n",
              "    </tr>\n",
              "    <tr>\n",
              "      <th>468</th>\n",
              "      <td>8.0</td>\n",
              "      <td>120.0</td>\n",
              "      <td>NaN</td>\n",
              "      <td>NaN</td>\n",
              "      <td>NaN</td>\n",
              "      <td>30.0</td>\n",
              "      <td>38.0</td>\n",
              "      <td>1</td>\n",
              "    </tr>\n",
              "    <tr>\n",
              "      <th>484</th>\n",
              "      <td>0.0</td>\n",
              "      <td>145.0</td>\n",
              "      <td>NaN</td>\n",
              "      <td>NaN</td>\n",
              "      <td>NaN</td>\n",
              "      <td>44.2</td>\n",
              "      <td>31.0</td>\n",
              "      <td>1</td>\n",
              "    </tr>\n",
              "    <tr>\n",
              "      <th>494</th>\n",
              "      <td>3.0</td>\n",
              "      <td>80.0</td>\n",
              "      <td>NaN</td>\n",
              "      <td>NaN</td>\n",
              "      <td>NaN</td>\n",
              "      <td>NaN</td>\n",
              "      <td>22.0</td>\n",
              "      <td>0</td>\n",
              "    </tr>\n",
              "    <tr>\n",
              "      <th>522</th>\n",
              "      <td>6.0</td>\n",
              "      <td>114.0</td>\n",
              "      <td>NaN</td>\n",
              "      <td>NaN</td>\n",
              "      <td>NaN</td>\n",
              "      <td>NaN</td>\n",
              "      <td>26.0</td>\n",
              "      <td>0</td>\n",
              "    </tr>\n",
              "    <tr>\n",
              "      <th>533</th>\n",
              "      <td>6.0</td>\n",
              "      <td>91.0</td>\n",
              "      <td>NaN</td>\n",
              "      <td>NaN</td>\n",
              "      <td>NaN</td>\n",
              "      <td>29.8</td>\n",
              "      <td>31.0</td>\n",
              "      <td>0</td>\n",
              "    </tr>\n",
              "    <tr>\n",
              "      <th>535</th>\n",
              "      <td>4.0</td>\n",
              "      <td>132.0</td>\n",
              "      <td>NaN</td>\n",
              "      <td>NaN</td>\n",
              "      <td>NaN</td>\n",
              "      <td>32.9</td>\n",
              "      <td>23.0</td>\n",
              "      <td>1</td>\n",
              "    </tr>\n",
              "    <tr>\n",
              "      <th>589</th>\n",
              "      <td>0.0</td>\n",
              "      <td>73.0</td>\n",
              "      <td>NaN</td>\n",
              "      <td>NaN</td>\n",
              "      <td>NaN</td>\n",
              "      <td>21.1</td>\n",
              "      <td>25.0</td>\n",
              "      <td>0</td>\n",
              "    </tr>\n",
              "    <tr>\n",
              "      <th>601</th>\n",
              "      <td>6.0</td>\n",
              "      <td>96.0</td>\n",
              "      <td>NaN</td>\n",
              "      <td>NaN</td>\n",
              "      <td>NaN</td>\n",
              "      <td>23.7</td>\n",
              "      <td>28.0</td>\n",
              "      <td>0</td>\n",
              "    </tr>\n",
              "    <tr>\n",
              "      <th>604</th>\n",
              "      <td>4.0</td>\n",
              "      <td>183.0</td>\n",
              "      <td>NaN</td>\n",
              "      <td>NaN</td>\n",
              "      <td>NaN</td>\n",
              "      <td>28.4</td>\n",
              "      <td>36.0</td>\n",
              "      <td>1</td>\n",
              "    </tr>\n",
              "    <tr>\n",
              "      <th>619</th>\n",
              "      <td>0.0</td>\n",
              "      <td>119.0</td>\n",
              "      <td>NaN</td>\n",
              "      <td>NaN</td>\n",
              "      <td>NaN</td>\n",
              "      <td>32.4</td>\n",
              "      <td>24.0</td>\n",
              "      <td>1</td>\n",
              "    </tr>\n",
              "    <tr>\n",
              "      <th>630</th>\n",
              "      <td>7.0</td>\n",
              "      <td>114.0</td>\n",
              "      <td>NaN</td>\n",
              "      <td>NaN</td>\n",
              "      <td>NaN</td>\n",
              "      <td>27.4</td>\n",
              "      <td>34.0</td>\n",
              "      <td>1</td>\n",
              "    </tr>\n",
              "    <tr>\n",
              "      <th>643</th>\n",
              "      <td>4.0</td>\n",
              "      <td>90.0</td>\n",
              "      <td>NaN</td>\n",
              "      <td>NaN</td>\n",
              "      <td>NaN</td>\n",
              "      <td>28.0</td>\n",
              "      <td>31.0</td>\n",
              "      <td>0</td>\n",
              "    </tr>\n",
              "    <tr>\n",
              "      <th>697</th>\n",
              "      <td>0.0</td>\n",
              "      <td>99.0</td>\n",
              "      <td>NaN</td>\n",
              "      <td>NaN</td>\n",
              "      <td>NaN</td>\n",
              "      <td>25.0</td>\n",
              "      <td>22.0</td>\n",
              "      <td>0</td>\n",
              "    </tr>\n",
              "    <tr>\n",
              "      <th>703</th>\n",
              "      <td>2.0</td>\n",
              "      <td>129.0</td>\n",
              "      <td>NaN</td>\n",
              "      <td>NaN</td>\n",
              "      <td>NaN</td>\n",
              "      <td>38.5</td>\n",
              "      <td>41.0</td>\n",
              "      <td>0</td>\n",
              "    </tr>\n",
              "    <tr>\n",
              "      <th>706</th>\n",
              "      <td>10.0</td>\n",
              "      <td>115.0</td>\n",
              "      <td>NaN</td>\n",
              "      <td>NaN</td>\n",
              "      <td>NaN</td>\n",
              "      <td>NaN</td>\n",
              "      <td>30.0</td>\n",
              "      <td>1</td>\n",
              "    </tr>\n",
              "  </tbody>\n",
              "</table>\n",
              "</div>"
            ],
            "text/plain": [
              "     Number of times Pregnant  Plasma Concentration  Diastolic BP  \\\n",
              "7                        10.0                 115.0           NaN   \n",
              "15                        7.0                 100.0           NaN   \n",
              "25                       10.0                 125.0           NaN   \n",
              "49                        7.0                 105.0           NaN   \n",
              "60                        2.0                  84.0           NaN   \n",
              "78                        0.0                 131.0           NaN   \n",
              "81                        2.0                  74.0           NaN   \n",
              "83                        0.0                 101.0           NaN   \n",
              "172                       2.0                  87.0           NaN   \n",
              "193                      11.0                 135.0           NaN   \n",
              "222                       7.0                 119.0           NaN   \n",
              "232                       1.0                  79.0           NaN   \n",
              "261                       3.0                 141.0           NaN   \n",
              "266                       0.0                 138.0           NaN   \n",
              "269                       2.0                 146.0           NaN   \n",
              "300                       0.0                 167.0           NaN   \n",
              "332                       1.0                 180.0           NaN   \n",
              "336                       0.0                 117.0           NaN   \n",
              "347                       3.0                 116.0           NaN   \n",
              "357                      13.0                 129.0           NaN   \n",
              "426                       0.0                  94.0           NaN   \n",
              "430                       2.0                  99.0           NaN   \n",
              "435                       0.0                 141.0           NaN   \n",
              "453                       2.0                 119.0           NaN   \n",
              "468                       8.0                 120.0           NaN   \n",
              "484                       0.0                 145.0           NaN   \n",
              "494                       3.0                  80.0           NaN   \n",
              "522                       6.0                 114.0           NaN   \n",
              "533                       6.0                  91.0           NaN   \n",
              "535                       4.0                 132.0           NaN   \n",
              "589                       0.0                  73.0           NaN   \n",
              "601                       6.0                  96.0           NaN   \n",
              "604                       4.0                 183.0           NaN   \n",
              "619                       0.0                 119.0           NaN   \n",
              "630                       7.0                 114.0           NaN   \n",
              "643                       4.0                  90.0           NaN   \n",
              "697                       0.0                  99.0           NaN   \n",
              "703                       2.0                 129.0           NaN   \n",
              "706                      10.0                 115.0           NaN   \n",
              "\n",
              "     Triceps Skin fold thickness  insulin   BMI   Age  Class  \n",
              "7                            NaN      NaN  35.3  29.0      0  \n",
              "15                           NaN      NaN  30.0  32.0      1  \n",
              "25                          26.0    115.0  31.1  41.0      1  \n",
              "49                           NaN      NaN   NaN  24.0      0  \n",
              "60                           NaN      NaN   NaN  21.0      0  \n",
              "78                           NaN      NaN  43.2  26.0      1  \n",
              "81                           NaN      NaN   NaN  22.0      0  \n",
              "83                          28.0      NaN  24.6  22.0      0  \n",
              "172                         23.0      NaN  28.9  25.0      0  \n",
              "193                          NaN      NaN  52.3  40.0      1  \n",
              "222                          NaN      NaN  25.2  37.0      0  \n",
              "232                         25.0     37.0  25.4  22.0      0  \n",
              "261                          NaN      NaN  30.0  27.0      1  \n",
              "266                          NaN      NaN  36.3  25.0      1  \n",
              "269                          NaN      NaN  27.5  28.0      1  \n",
              "300                          NaN      NaN  32.3  30.0      1  \n",
              "332                          NaN      NaN  43.3  41.0      1  \n",
              "336                          NaN      NaN  33.8  44.0      0  \n",
              "347                          NaN      NaN  23.5  23.0      0  \n",
              "357                         30.0      NaN  39.9  44.0      1  \n",
              "426                          NaN      NaN   NaN  25.0      0  \n",
              "430                          NaN      NaN  22.2  23.0      0  \n",
              "435                          NaN      NaN  42.4  29.0      1  \n",
              "453                          NaN      NaN  19.6  72.0      0  \n",
              "468                          NaN      NaN  30.0  38.0      1  \n",
              "484                          NaN      NaN  44.2  31.0      1  \n",
              "494                          NaN      NaN   NaN  22.0      0  \n",
              "522                          NaN      NaN   NaN  26.0      0  \n",
              "533                          NaN      NaN  29.8  31.0      0  \n",
              "535                          NaN      NaN  32.9  23.0      1  \n",
              "589                          NaN      NaN  21.1  25.0      0  \n",
              "601                          NaN      NaN  23.7  28.0      0  \n",
              "604                          NaN      NaN  28.4  36.0      1  \n",
              "619                          NaN      NaN  32.4  24.0      1  \n",
              "630                          NaN      NaN  27.4  34.0      1  \n",
              "643                          NaN      NaN  28.0  31.0      0  \n",
              "697                          NaN      NaN  25.0  22.0      0  \n",
              "703                          NaN      NaN  38.5  41.0      0  \n",
              "706                          NaN      NaN   NaN  30.0      1  "
            ]
          },
          "execution_count": 32,
          "metadata": {},
          "output_type": "execute_result"
        }
      ],
      "source": [
        "data[data['Diastolic BP'].isna()]"
      ]
    },
    {
      "cell_type": "code",
      "execution_count": null,
      "metadata": {
        "id": "IXGFrGr_FVYE",
        "outputId": "cbd90ac9-071c-44a1-9898-179e0cc987aa"
      },
      "outputs": [
        {
          "data": {
            "text/plain": [
              "16"
            ]
          },
          "execution_count": 33,
          "metadata": {},
          "output_type": "execute_result"
        }
      ],
      "source": [
        "data['Diastolic BP'][data['Diastolic BP'] < 50].count()"
      ]
    },
    {
      "cell_type": "code",
      "execution_count": null,
      "metadata": {
        "id": "bYxNp-peFVYE",
        "outputId": "8c0edb4c-69ff-4e0e-a080-ebab7f2292dc"
      },
      "outputs": [
        {
          "name": "stderr",
          "output_type": "stream",
          "text": [
            "C:\\ProgramData\\Anaconda3\\lib\\site-packages\\seaborn\\_decorators.py:36: FutureWarning: Pass the following variable as a keyword arg: x. From version 0.12, the only valid positional argument will be `data`, and passing other arguments without an explicit keyword will result in an error or misinterpretation.\n",
            "  warnings.warn(\n"
          ]
        },
        {
          "data": {
            "text/plain": [
              "<AxesSubplot:xlabel='Diastolic BP'>"
            ]
          },
          "execution_count": 34,
          "metadata": {},
          "output_type": "execute_result"
        },
        {
          "data": {
            "image/png": "[encoded data removed]",
            "text/plain": [
              "<Figure size 432x288 with 1 Axes>"
            ]
          },
          "metadata": {
            "needs_background": "light"
          },
          "output_type": "display_data"
        }
      ],
      "source": [
        "sns.boxplot(data['Diastolic BP'])"
      ]
    },
    {
      "cell_type": "code",
      "execution_count": null,
      "metadata": {
        "id": "ErewcByoFVYF"
      },
      "outputs": [],
      "source": [
        "data['Diastolic BP'] = np.where(data['Diastolic BP'] < 40, np.NaN, data['Diastolic BP'])"
      ]
    },
    {
      "cell_type": "code",
      "execution_count": null,
      "metadata": {
        "id": "n7buhOCdFVYF",
        "outputId": "0a25565c-177d-41b9-cb63-61b9210c6b44"
      },
      "outputs": [
        {
          "data": {
            "text/plain": [
              "43"
            ]
          },
          "execution_count": 36,
          "metadata": {},
          "output_type": "execute_result"
        }
      ],
      "source": [
        "data['Diastolic BP'].isna().sum()"
      ]
    },
    {
      "cell_type": "code",
      "execution_count": null,
      "metadata": {
        "id": "5k7qLL5sFVYF",
        "outputId": "51aca186-45c3-4c13-b2be-4faab77c604b"
      },
      "outputs": [
        {
          "data": {
            "text/html": [
              "<div>\n",
              "<style scoped>\n",
              "    .dataframe tbody tr th:only-of-type {\n",
              "        vertical-align: middle;\n",
              "    }\n",
              "\n",
              "    .dataframe tbody tr th {\n",
              "        vertical-align: top;\n",
              "    }\n",
              "\n",
              "    .dataframe thead th {\n",
              "        text-align: right;\n",
              "    }\n",
              "</style>\n",
              "<table border=\"1\" class=\"dataframe\">\n",
              "  <thead>\n",
              "    <tr style=\"text-align: right;\">\n",
              "      <th></th>\n",
              "      <th>Number of times Pregnant</th>\n",
              "      <th>Plasma Concentration</th>\n",
              "      <th>Diastolic BP</th>\n",
              "      <th>Triceps Skin fold thickness</th>\n",
              "      <th>insulin</th>\n",
              "      <th>BMI</th>\n",
              "      <th>Age</th>\n",
              "      <th>Class</th>\n",
              "    </tr>\n",
              "  </thead>\n",
              "  <tbody>\n",
              "    <tr>\n",
              "      <th>7</th>\n",
              "      <td>10.0</td>\n",
              "      <td>115.0</td>\n",
              "      <td>NaN</td>\n",
              "      <td>NaN</td>\n",
              "      <td>NaN</td>\n",
              "      <td>35.3</td>\n",
              "      <td>29.0</td>\n",
              "      <td>0</td>\n",
              "    </tr>\n",
              "    <tr>\n",
              "      <th>453</th>\n",
              "      <td>2.0</td>\n",
              "      <td>119.0</td>\n",
              "      <td>NaN</td>\n",
              "      <td>NaN</td>\n",
              "      <td>NaN</td>\n",
              "      <td>19.6</td>\n",
              "      <td>72.0</td>\n",
              "      <td>0</td>\n",
              "    </tr>\n",
              "    <tr>\n",
              "      <th>533</th>\n",
              "      <td>6.0</td>\n",
              "      <td>91.0</td>\n",
              "      <td>NaN</td>\n",
              "      <td>NaN</td>\n",
              "      <td>NaN</td>\n",
              "      <td>29.8</td>\n",
              "      <td>31.0</td>\n",
              "      <td>0</td>\n",
              "    </tr>\n",
              "    <tr>\n",
              "      <th>430</th>\n",
              "      <td>2.0</td>\n",
              "      <td>99.0</td>\n",
              "      <td>NaN</td>\n",
              "      <td>NaN</td>\n",
              "      <td>NaN</td>\n",
              "      <td>22.2</td>\n",
              "      <td>23.0</td>\n",
              "      <td>0</td>\n",
              "    </tr>\n",
              "    <tr>\n",
              "      <th>426</th>\n",
              "      <td>0.0</td>\n",
              "      <td>94.0</td>\n",
              "      <td>NaN</td>\n",
              "      <td>NaN</td>\n",
              "      <td>NaN</td>\n",
              "      <td>NaN</td>\n",
              "      <td>25.0</td>\n",
              "      <td>0</td>\n",
              "    </tr>\n",
              "    <tr>\n",
              "      <th>703</th>\n",
              "      <td>2.0</td>\n",
              "      <td>129.0</td>\n",
              "      <td>NaN</td>\n",
              "      <td>NaN</td>\n",
              "      <td>NaN</td>\n",
              "      <td>38.5</td>\n",
              "      <td>41.0</td>\n",
              "      <td>0</td>\n",
              "    </tr>\n",
              "    <tr>\n",
              "      <th>347</th>\n",
              "      <td>3.0</td>\n",
              "      <td>116.0</td>\n",
              "      <td>NaN</td>\n",
              "      <td>NaN</td>\n",
              "      <td>NaN</td>\n",
              "      <td>23.5</td>\n",
              "      <td>23.0</td>\n",
              "      <td>0</td>\n",
              "    </tr>\n",
              "    <tr>\n",
              "      <th>336</th>\n",
              "      <td>0.0</td>\n",
              "      <td>117.0</td>\n",
              "      <td>NaN</td>\n",
              "      <td>NaN</td>\n",
              "      <td>NaN</td>\n",
              "      <td>33.8</td>\n",
              "      <td>44.0</td>\n",
              "      <td>0</td>\n",
              "    </tr>\n",
              "    <tr>\n",
              "      <th>589</th>\n",
              "      <td>0.0</td>\n",
              "      <td>73.0</td>\n",
              "      <td>NaN</td>\n",
              "      <td>NaN</td>\n",
              "      <td>NaN</td>\n",
              "      <td>21.1</td>\n",
              "      <td>25.0</td>\n",
              "      <td>0</td>\n",
              "    </tr>\n",
              "    <tr>\n",
              "      <th>597</th>\n",
              "      <td>1.0</td>\n",
              "      <td>89.0</td>\n",
              "      <td>NaN</td>\n",
              "      <td>19.0</td>\n",
              "      <td>25.0</td>\n",
              "      <td>27.8</td>\n",
              "      <td>21.0</td>\n",
              "      <td>0</td>\n",
              "    </tr>\n",
              "    <tr>\n",
              "      <th>599</th>\n",
              "      <td>1.0</td>\n",
              "      <td>109.0</td>\n",
              "      <td>NaN</td>\n",
              "      <td>18.0</td>\n",
              "      <td>120.0</td>\n",
              "      <td>23.1</td>\n",
              "      <td>26.0</td>\n",
              "      <td>0</td>\n",
              "    </tr>\n",
              "    <tr>\n",
              "      <th>601</th>\n",
              "      <td>6.0</td>\n",
              "      <td>96.0</td>\n",
              "      <td>NaN</td>\n",
              "      <td>NaN</td>\n",
              "      <td>NaN</td>\n",
              "      <td>23.7</td>\n",
              "      <td>28.0</td>\n",
              "      <td>0</td>\n",
              "    </tr>\n",
              "    <tr>\n",
              "      <th>522</th>\n",
              "      <td>6.0</td>\n",
              "      <td>114.0</td>\n",
              "      <td>NaN</td>\n",
              "      <td>NaN</td>\n",
              "      <td>NaN</td>\n",
              "      <td>NaN</td>\n",
              "      <td>26.0</td>\n",
              "      <td>0</td>\n",
              "    </tr>\n",
              "    <tr>\n",
              "      <th>232</th>\n",
              "      <td>1.0</td>\n",
              "      <td>79.0</td>\n",
              "      <td>NaN</td>\n",
              "      <td>25.0</td>\n",
              "      <td>37.0</td>\n",
              "      <td>25.4</td>\n",
              "      <td>22.0</td>\n",
              "      <td>0</td>\n",
              "    </tr>\n",
              "    <tr>\n",
              "      <th>172</th>\n",
              "      <td>2.0</td>\n",
              "      <td>87.0</td>\n",
              "      <td>NaN</td>\n",
              "      <td>23.0</td>\n",
              "      <td>NaN</td>\n",
              "      <td>28.9</td>\n",
              "      <td>25.0</td>\n",
              "      <td>0</td>\n",
              "    </tr>\n",
              "    <tr>\n",
              "      <th>83</th>\n",
              "      <td>0.0</td>\n",
              "      <td>101.0</td>\n",
              "      <td>NaN</td>\n",
              "      <td>28.0</td>\n",
              "      <td>NaN</td>\n",
              "      <td>24.6</td>\n",
              "      <td>22.0</td>\n",
              "      <td>0</td>\n",
              "    </tr>\n",
              "    <tr>\n",
              "      <th>81</th>\n",
              "      <td>2.0</td>\n",
              "      <td>74.0</td>\n",
              "      <td>NaN</td>\n",
              "      <td>NaN</td>\n",
              "      <td>NaN</td>\n",
              "      <td>NaN</td>\n",
              "      <td>22.0</td>\n",
              "      <td>0</td>\n",
              "    </tr>\n",
              "    <tr>\n",
              "      <th>60</th>\n",
              "      <td>2.0</td>\n",
              "      <td>84.0</td>\n",
              "      <td>NaN</td>\n",
              "      <td>NaN</td>\n",
              "      <td>NaN</td>\n",
              "      <td>NaN</td>\n",
              "      <td>21.0</td>\n",
              "      <td>0</td>\n",
              "    </tr>\n",
              "    <tr>\n",
              "      <th>49</th>\n",
              "      <td>7.0</td>\n",
              "      <td>105.0</td>\n",
              "      <td>NaN</td>\n",
              "      <td>NaN</td>\n",
              "      <td>NaN</td>\n",
              "      <td>NaN</td>\n",
              "      <td>24.0</td>\n",
              "      <td>0</td>\n",
              "    </tr>\n",
              "    <tr>\n",
              "      <th>643</th>\n",
              "      <td>4.0</td>\n",
              "      <td>90.0</td>\n",
              "      <td>NaN</td>\n",
              "      <td>NaN</td>\n",
              "      <td>NaN</td>\n",
              "      <td>28.0</td>\n",
              "      <td>31.0</td>\n",
              "      <td>0</td>\n",
              "    </tr>\n",
              "    <tr>\n",
              "      <th>18</th>\n",
              "      <td>1.0</td>\n",
              "      <td>103.0</td>\n",
              "      <td>NaN</td>\n",
              "      <td>38.0</td>\n",
              "      <td>83.0</td>\n",
              "      <td>43.3</td>\n",
              "      <td>33.0</td>\n",
              "      <td>0</td>\n",
              "    </tr>\n",
              "    <tr>\n",
              "      <th>697</th>\n",
              "      <td>0.0</td>\n",
              "      <td>99.0</td>\n",
              "      <td>NaN</td>\n",
              "      <td>NaN</td>\n",
              "      <td>NaN</td>\n",
              "      <td>25.0</td>\n",
              "      <td>22.0</td>\n",
              "      <td>0</td>\n",
              "    </tr>\n",
              "    <tr>\n",
              "      <th>222</th>\n",
              "      <td>7.0</td>\n",
              "      <td>119.0</td>\n",
              "      <td>NaN</td>\n",
              "      <td>NaN</td>\n",
              "      <td>NaN</td>\n",
              "      <td>25.2</td>\n",
              "      <td>37.0</td>\n",
              "      <td>0</td>\n",
              "    </tr>\n",
              "    <tr>\n",
              "      <th>494</th>\n",
              "      <td>3.0</td>\n",
              "      <td>80.0</td>\n",
              "      <td>NaN</td>\n",
              "      <td>NaN</td>\n",
              "      <td>NaN</td>\n",
              "      <td>NaN</td>\n",
              "      <td>22.0</td>\n",
              "      <td>0</td>\n",
              "    </tr>\n",
              "    <tr>\n",
              "      <th>604</th>\n",
              "      <td>4.0</td>\n",
              "      <td>183.0</td>\n",
              "      <td>NaN</td>\n",
              "      <td>NaN</td>\n",
              "      <td>NaN</td>\n",
              "      <td>28.4</td>\n",
              "      <td>36.0</td>\n",
              "      <td>1</td>\n",
              "    </tr>\n",
              "    <tr>\n",
              "      <th>619</th>\n",
              "      <td>0.0</td>\n",
              "      <td>119.0</td>\n",
              "      <td>NaN</td>\n",
              "      <td>NaN</td>\n",
              "      <td>NaN</td>\n",
              "      <td>32.4</td>\n",
              "      <td>24.0</td>\n",
              "      <td>1</td>\n",
              "    </tr>\n",
              "    <tr>\n",
              "      <th>535</th>\n",
              "      <td>4.0</td>\n",
              "      <td>132.0</td>\n",
              "      <td>NaN</td>\n",
              "      <td>NaN</td>\n",
              "      <td>NaN</td>\n",
              "      <td>32.9</td>\n",
              "      <td>23.0</td>\n",
              "      <td>1</td>\n",
              "    </tr>\n",
              "    <tr>\n",
              "      <th>630</th>\n",
              "      <td>7.0</td>\n",
              "      <td>114.0</td>\n",
              "      <td>NaN</td>\n",
              "      <td>NaN</td>\n",
              "      <td>NaN</td>\n",
              "      <td>27.4</td>\n",
              "      <td>34.0</td>\n",
              "      <td>1</td>\n",
              "    </tr>\n",
              "    <tr>\n",
              "      <th>357</th>\n",
              "      <td>13.0</td>\n",
              "      <td>129.0</td>\n",
              "      <td>NaN</td>\n",
              "      <td>30.0</td>\n",
              "      <td>NaN</td>\n",
              "      <td>39.9</td>\n",
              "      <td>44.0</td>\n",
              "      <td>1</td>\n",
              "    </tr>\n",
              "    <tr>\n",
              "      <th>468</th>\n",
              "      <td>8.0</td>\n",
              "      <td>120.0</td>\n",
              "      <td>NaN</td>\n",
              "      <td>NaN</td>\n",
              "      <td>NaN</td>\n",
              "      <td>30.0</td>\n",
              "      <td>38.0</td>\n",
              "      <td>1</td>\n",
              "    </tr>\n",
              "    <tr>\n",
              "      <th>435</th>\n",
              "      <td>0.0</td>\n",
              "      <td>141.0</td>\n",
              "      <td>NaN</td>\n",
              "      <td>NaN</td>\n",
              "      <td>NaN</td>\n",
              "      <td>42.4</td>\n",
              "      <td>29.0</td>\n",
              "      <td>1</td>\n",
              "    </tr>\n",
              "    <tr>\n",
              "      <th>332</th>\n",
              "      <td>1.0</td>\n",
              "      <td>180.0</td>\n",
              "      <td>NaN</td>\n",
              "      <td>NaN</td>\n",
              "      <td>NaN</td>\n",
              "      <td>43.3</td>\n",
              "      <td>41.0</td>\n",
              "      <td>1</td>\n",
              "    </tr>\n",
              "    <tr>\n",
              "      <th>300</th>\n",
              "      <td>0.0</td>\n",
              "      <td>167.0</td>\n",
              "      <td>NaN</td>\n",
              "      <td>NaN</td>\n",
              "      <td>NaN</td>\n",
              "      <td>32.3</td>\n",
              "      <td>30.0</td>\n",
              "      <td>1</td>\n",
              "    </tr>\n",
              "    <tr>\n",
              "      <th>269</th>\n",
              "      <td>2.0</td>\n",
              "      <td>146.0</td>\n",
              "      <td>NaN</td>\n",
              "      <td>NaN</td>\n",
              "      <td>NaN</td>\n",
              "      <td>27.5</td>\n",
              "      <td>28.0</td>\n",
              "      <td>1</td>\n",
              "    </tr>\n",
              "    <tr>\n",
              "      <th>266</th>\n",
              "      <td>0.0</td>\n",
              "      <td>138.0</td>\n",
              "      <td>NaN</td>\n",
              "      <td>NaN</td>\n",
              "      <td>NaN</td>\n",
              "      <td>36.3</td>\n",
              "      <td>25.0</td>\n",
              "      <td>1</td>\n",
              "    </tr>\n",
              "    <tr>\n",
              "      <th>261</th>\n",
              "      <td>3.0</td>\n",
              "      <td>141.0</td>\n",
              "      <td>NaN</td>\n",
              "      <td>NaN</td>\n",
              "      <td>NaN</td>\n",
              "      <td>30.0</td>\n",
              "      <td>27.0</td>\n",
              "      <td>1</td>\n",
              "    </tr>\n",
              "    <tr>\n",
              "      <th>193</th>\n",
              "      <td>11.0</td>\n",
              "      <td>135.0</td>\n",
              "      <td>NaN</td>\n",
              "      <td>NaN</td>\n",
              "      <td>NaN</td>\n",
              "      <td>52.3</td>\n",
              "      <td>40.0</td>\n",
              "      <td>1</td>\n",
              "    </tr>\n",
              "    <tr>\n",
              "      <th>125</th>\n",
              "      <td>1.0</td>\n",
              "      <td>88.0</td>\n",
              "      <td>NaN</td>\n",
              "      <td>42.0</td>\n",
              "      <td>99.0</td>\n",
              "      <td>55.0</td>\n",
              "      <td>26.0</td>\n",
              "      <td>1</td>\n",
              "    </tr>\n",
              "    <tr>\n",
              "      <th>78</th>\n",
              "      <td>0.0</td>\n",
              "      <td>131.0</td>\n",
              "      <td>NaN</td>\n",
              "      <td>NaN</td>\n",
              "      <td>NaN</td>\n",
              "      <td>43.2</td>\n",
              "      <td>26.0</td>\n",
              "      <td>1</td>\n",
              "    </tr>\n",
              "    <tr>\n",
              "      <th>25</th>\n",
              "      <td>10.0</td>\n",
              "      <td>125.0</td>\n",
              "      <td>NaN</td>\n",
              "      <td>26.0</td>\n",
              "      <td>115.0</td>\n",
              "      <td>31.1</td>\n",
              "      <td>41.0</td>\n",
              "      <td>1</td>\n",
              "    </tr>\n",
              "    <tr>\n",
              "      <th>15</th>\n",
              "      <td>7.0</td>\n",
              "      <td>100.0</td>\n",
              "      <td>NaN</td>\n",
              "      <td>NaN</td>\n",
              "      <td>NaN</td>\n",
              "      <td>30.0</td>\n",
              "      <td>32.0</td>\n",
              "      <td>1</td>\n",
              "    </tr>\n",
              "    <tr>\n",
              "      <th>484</th>\n",
              "      <td>0.0</td>\n",
              "      <td>145.0</td>\n",
              "      <td>NaN</td>\n",
              "      <td>NaN</td>\n",
              "      <td>NaN</td>\n",
              "      <td>44.2</td>\n",
              "      <td>31.0</td>\n",
              "      <td>1</td>\n",
              "    </tr>\n",
              "    <tr>\n",
              "      <th>706</th>\n",
              "      <td>10.0</td>\n",
              "      <td>115.0</td>\n",
              "      <td>NaN</td>\n",
              "      <td>NaN</td>\n",
              "      <td>NaN</td>\n",
              "      <td>NaN</td>\n",
              "      <td>30.0</td>\n",
              "      <td>1</td>\n",
              "    </tr>\n",
              "  </tbody>\n",
              "</table>\n",
              "</div>"
            ],
            "text/plain": [
              "     Number of times Pregnant  Plasma Concentration  Diastolic BP  \\\n",
              "7                        10.0                 115.0           NaN   \n",
              "453                       2.0                 119.0           NaN   \n",
              "533                       6.0                  91.0           NaN   \n",
              "430                       2.0                  99.0           NaN   \n",
              "426                       0.0                  94.0           NaN   \n",
              "703                       2.0                 129.0           NaN   \n",
              "347                       3.0                 116.0           NaN   \n",
              "336                       0.0                 117.0           NaN   \n",
              "589                       0.0                  73.0           NaN   \n",
              "597                       1.0                  89.0           NaN   \n",
              "599                       1.0                 109.0           NaN   \n",
              "601                       6.0                  96.0           NaN   \n",
              "522                       6.0                 114.0           NaN   \n",
              "232                       1.0                  79.0           NaN   \n",
              "172                       2.0                  87.0           NaN   \n",
              "83                        0.0                 101.0           NaN   \n",
              "81                        2.0                  74.0           NaN   \n",
              "60                        2.0                  84.0           NaN   \n",
              "49                        7.0                 105.0           NaN   \n",
              "643                       4.0                  90.0           NaN   \n",
              "18                        1.0                 103.0           NaN   \n",
              "697                       0.0                  99.0           NaN   \n",
              "222                       7.0                 119.0           NaN   \n",
              "494                       3.0                  80.0           NaN   \n",
              "604                       4.0                 183.0           NaN   \n",
              "619                       0.0                 119.0           NaN   \n",
              "535                       4.0                 132.0           NaN   \n",
              "630                       7.0                 114.0           NaN   \n",
              "357                      13.0                 129.0           NaN   \n",
              "468                       8.0                 120.0           NaN   \n",
              "435                       0.0                 141.0           NaN   \n",
              "332                       1.0                 180.0           NaN   \n",
              "300                       0.0                 167.0           NaN   \n",
              "269                       2.0                 146.0           NaN   \n",
              "266                       0.0                 138.0           NaN   \n",
              "261                       3.0                 141.0           NaN   \n",
              "193                      11.0                 135.0           NaN   \n",
              "125                       1.0                  88.0           NaN   \n",
              "78                        0.0                 131.0           NaN   \n",
              "25                       10.0                 125.0           NaN   \n",
              "15                        7.0                 100.0           NaN   \n",
              "484                       0.0                 145.0           NaN   \n",
              "706                      10.0                 115.0           NaN   \n",
              "\n",
              "     Triceps Skin fold thickness  insulin   BMI   Age  Class  \n",
              "7                            NaN      NaN  35.3  29.0      0  \n",
              "453                          NaN      NaN  19.6  72.0      0  \n",
              "533                          NaN      NaN  29.8  31.0      0  \n",
              "430                          NaN      NaN  22.2  23.0      0  \n",
              "426                          NaN      NaN   NaN  25.0      0  \n",
              "703                          NaN      NaN  38.5  41.0      0  \n",
              "347                          NaN      NaN  23.5  23.0      0  \n",
              "336                          NaN      NaN  33.8  44.0      0  \n",
              "589                          NaN      NaN  21.1  25.0      0  \n",
              "597                         19.0     25.0  27.8  21.0      0  \n",
              "599                         18.0    120.0  23.1  26.0      0  \n",
              "601                          NaN      NaN  23.7  28.0      0  \n",
              "522                          NaN      NaN   NaN  26.0      0  \n",
              "232                         25.0     37.0  25.4  22.0      0  \n",
              "172                         23.0      NaN  28.9  25.0      0  \n",
              "83                          28.0      NaN  24.6  22.0      0  \n",
              "81                           NaN      NaN   NaN  22.0      0  \n",
              "60                           NaN      NaN   NaN  21.0      0  \n",
              "49                           NaN      NaN   NaN  24.0      0  \n",
              "643                          NaN      NaN  28.0  31.0      0  \n",
              "18                          38.0     83.0  43.3  33.0      0  \n",
              "697                          NaN      NaN  25.0  22.0      0  \n",
              "222                          NaN      NaN  25.2  37.0      0  \n",
              "494                          NaN      NaN   NaN  22.0      0  \n",
              "604                          NaN      NaN  28.4  36.0      1  \n",
              "619                          NaN      NaN  32.4  24.0      1  \n",
              "535                          NaN      NaN  32.9  23.0      1  \n",
              "630                          NaN      NaN  27.4  34.0      1  \n",
              "357                         30.0      NaN  39.9  44.0      1  \n",
              "468                          NaN      NaN  30.0  38.0      1  \n",
              "435                          NaN      NaN  42.4  29.0      1  \n",
              "332                          NaN      NaN  43.3  41.0      1  \n",
              "300                          NaN      NaN  32.3  30.0      1  \n",
              "269                          NaN      NaN  27.5  28.0      1  \n",
              "266                          NaN      NaN  36.3  25.0      1  \n",
              "261                          NaN      NaN  30.0  27.0      1  \n",
              "193                          NaN      NaN  52.3  40.0      1  \n",
              "125                         42.0     99.0  55.0  26.0      1  \n",
              "78                           NaN      NaN  43.2  26.0      1  \n",
              "25                          26.0    115.0  31.1  41.0      1  \n",
              "15                           NaN      NaN  30.0  32.0      1  \n",
              "484                          NaN      NaN  44.2  31.0      1  \n",
              "706                          NaN      NaN   NaN  30.0      1  "
            ]
          },
          "execution_count": 37,
          "metadata": {},
          "output_type": "execute_result"
        }
      ],
      "source": [
        "data[data['Diastolic BP'].isna()].sort_values(by = 'Class')"
      ]
    },
    {
      "cell_type": "code",
      "execution_count": null,
      "metadata": {
        "id": "UpOUcNo9FVYN",
        "outputId": "b1459546-5066-4cb5-bace-1b30e8445cf2"
      },
      "outputs": [
        {
          "data": {
            "text/plain": [
              "count    725.000000\n",
              "mean      72.651034\n",
              "std       12.035440\n",
              "min       40.000000\n",
              "25%       64.000000\n",
              "50%       72.000000\n",
              "75%       80.000000\n",
              "max      122.000000\n",
              "Name: Diastolic BP, dtype: float64"
            ]
          },
          "execution_count": 38,
          "metadata": {},
          "output_type": "execute_result"
        }
      ],
      "source": [
        "data['Diastolic BP'].describe()"
      ]
    },
    {
      "cell_type": "code",
      "execution_count": null,
      "metadata": {
        "id": "7IUFbeKfFVYN"
      },
      "outputs": [],
      "source": [
        "data.loc[(data[\"Class\"]==0) & (data['Diastolic BP'].isna()),'Diastolic BP'] = data[data[\"Class\"]==0]['Diastolic BP'].mean()\n",
        "data.loc[(data[\"Class\"]==1) & (data['Diastolic BP'].isna()),'Diastolic BP'] = data[data[\"Class\"]==1]['Diastolic BP'].mean()"
      ]
    },
    {
      "cell_type": "code",
      "execution_count": null,
      "metadata": {
        "id": "VHapY54xFVYN",
        "outputId": "71384a70-cf77-40bc-ecce-57552d4a5857"
      },
      "outputs": [
        {
          "data": {
            "text/plain": [
              "Number of times Pregnant         0\n",
              "Plasma Concentration             0\n",
              "Diastolic BP                     0\n",
              "Triceps Skin fold thickness    228\n",
              "insulin                        376\n",
              "BMI                             14\n",
              "Age                              2\n",
              "Class                            0\n",
              "dtype: int64"
            ]
          },
          "execution_count": 40,
          "metadata": {},
          "output_type": "execute_result"
        }
      ],
      "source": [
        "data.isna().sum()"
      ]
    },
    {
      "cell_type": "code",
      "execution_count": null,
      "metadata": {
        "id": "FmKUvP0dFVYN",
        "outputId": "bf6b0c83-2209-44cb-9aea-9497b52c392b"
      },
      "outputs": [
        {
          "data": {
            "text/html": [
              "<div>\n",
              "<style scoped>\n",
              "    .dataframe tbody tr th:only-of-type {\n",
              "        vertical-align: middle;\n",
              "    }\n",
              "\n",
              "    .dataframe tbody tr th {\n",
              "        vertical-align: top;\n",
              "    }\n",
              "\n",
              "    .dataframe thead th {\n",
              "        text-align: right;\n",
              "    }\n",
              "</style>\n",
              "<table border=\"1\" class=\"dataframe\">\n",
              "  <thead>\n",
              "    <tr style=\"text-align: right;\">\n",
              "      <th></th>\n",
              "      <th>Triceps Skin fold thickness</th>\n",
              "    </tr>\n",
              "  </thead>\n",
              "  <tbody>\n",
              "    <tr>\n",
              "      <th>count</th>\n",
              "      <td>540.000000</td>\n",
              "    </tr>\n",
              "    <tr>\n",
              "      <th>mean</th>\n",
              "      <td>29.131481</td>\n",
              "    </tr>\n",
              "    <tr>\n",
              "      <th>std</th>\n",
              "      <td>10.474252</td>\n",
              "    </tr>\n",
              "    <tr>\n",
              "      <th>min</th>\n",
              "      <td>7.000000</td>\n",
              "    </tr>\n",
              "    <tr>\n",
              "      <th>25%</th>\n",
              "      <td>22.000000</td>\n",
              "    </tr>\n",
              "    <tr>\n",
              "      <th>50%</th>\n",
              "      <td>29.000000</td>\n",
              "    </tr>\n",
              "    <tr>\n",
              "      <th>75%</th>\n",
              "      <td>36.000000</td>\n",
              "    </tr>\n",
              "    <tr>\n",
              "      <th>max</th>\n",
              "      <td>99.000000</td>\n",
              "    </tr>\n",
              "  </tbody>\n",
              "</table>\n",
              "</div>"
            ],
            "text/plain": [
              "       Triceps Skin fold thickness\n",
              "count                   540.000000\n",
              "mean                     29.131481\n",
              "std                      10.474252\n",
              "min                       7.000000\n",
              "25%                      22.000000\n",
              "50%                      29.000000\n",
              "75%                      36.000000\n",
              "max                      99.000000"
            ]
          },
          "execution_count": 41,
          "metadata": {},
          "output_type": "execute_result"
        }
      ],
      "source": [
        "data[['Triceps Skin fold thickness']].describe()"
      ]
    },
    {
      "cell_type": "code",
      "execution_count": null,
      "metadata": {
        "id": "Z0HsMB9MFVYN",
        "outputId": "f2216e5d-5cd4-4176-8519-156f5dbd46ec"
      },
      "outputs": [
        {
          "data": {
            "text/plain": [
              "99.0     1\n",
              "63.0     1\n",
              "60.0     1\n",
              "51.0     1\n",
              "56.0     1\n",
              "52.0     2\n",
              "7.0      2\n",
              "54.0     2\n",
              "8.0      2\n",
              "49.0     3\n",
              "50.0     3\n",
              "47.0     4\n",
              "48.0     4\n",
              "10.0     5\n",
              "44.0     5\n",
              "14.0     6\n",
              "43.0     6\n",
              "45.0     6\n",
              "16.0     6\n",
              "11.0     6\n",
              "12.0     7\n",
              "38.0     7\n",
              "46.0     8\n",
              "34.0     8\n",
              "21.0    10\n",
              "13.0    11\n",
              "42.0    11\n",
              "24.0    12\n",
              "20.0    13\n",
              "17.0    14\n",
              "41.0    14\n",
              "15.0    14\n",
              "36.0    14\n",
              "35.0    15\n",
              "26.0    16\n",
              "25.0    16\n",
              "37.0    16\n",
              "40.0    16\n",
              "22.0    16\n",
              "29.0    17\n",
              "39.0    18\n",
              "19.0    18\n",
              "31.0    19\n",
              "18.0    20\n",
              "28.0    20\n",
              "33.0    20\n",
              "23.0    22\n",
              "27.0    23\n",
              "30.0    27\n",
              "32.0    31\n",
              "Name: Triceps Skin fold thickness, dtype: int64"
            ]
          },
          "execution_count": 42,
          "metadata": {},
          "output_type": "execute_result"
        }
      ],
      "source": [
        "data['Triceps Skin fold thickness'].value_counts().sort_values()"
      ]
    },
    {
      "cell_type": "code",
      "execution_count": null,
      "metadata": {
        "id": "e9JMwtQOFVYN",
        "outputId": "07c21370-8782-449f-c352-8f41f31f49a0"
      },
      "outputs": [
        {
          "data": {
            "text/plain": [
              "4"
            ]
          },
          "execution_count": 43,
          "metadata": {},
          "output_type": "execute_result"
        }
      ],
      "source": [
        "data['Triceps Skin fold thickness'][data['Triceps Skin fold thickness'] > 55].count()"
      ]
    },
    {
      "cell_type": "code",
      "execution_count": null,
      "metadata": {
        "id": "Dy06ZxOYFVYN",
        "outputId": "5e880591-aa3d-4271-e0f7-fd31c274c387"
      },
      "outputs": [
        {
          "name": "stderr",
          "output_type": "stream",
          "text": [
            "C:\\ProgramData\\Anaconda3\\lib\\site-packages\\seaborn\\_decorators.py:36: FutureWarning: Pass the following variable as a keyword arg: x. From version 0.12, the only valid positional argument will be `data`, and passing other arguments without an explicit keyword will result in an error or misinterpretation.\n",
            "  warnings.warn(\n"
          ]
        },
        {
          "data": {
            "text/plain": [
              "<AxesSubplot:xlabel='Triceps Skin fold thickness'>"
            ]
          },
          "execution_count": 44,
          "metadata": {},
          "output_type": "execute_result"
        },
        {
          "data": {
            "image/png": "[encoded data removed]",
            "text/plain": [
              "<Figure size 432x288 with 1 Axes>"
            ]
          },
          "metadata": {
            "needs_background": "light"
          },
          "output_type": "display_data"
        }
      ],
      "source": [
        "sns.boxplot(data['Triceps Skin fold thickness'])"
      ]
    },
    {
      "cell_type": "code",
      "execution_count": null,
      "metadata": {
        "id": "q7euwea-FVYN"
      },
      "outputs": [],
      "source": [
        "data['Triceps Skin fold thickness'] = np.where(data['Triceps Skin fold thickness'] > 55, np.NaN, data['Triceps Skin fold thickness'])"
      ]
    },
    {
      "cell_type": "code",
      "execution_count": null,
      "metadata": {
        "id": "GVrTAy-PFVYN",
        "outputId": "28785129-961b-4ebd-c407-8f6f545a7bc9"
      },
      "outputs": [
        {
          "data": {
            "text/plain": [
              "0"
            ]
          },
          "execution_count": 46,
          "metadata": {},
          "output_type": "execute_result"
        }
      ],
      "source": [
        "data['Triceps Skin fold thickness'][data['Triceps Skin fold thickness'] > 55].count()"
      ]
    },
    {
      "cell_type": "code",
      "execution_count": null,
      "metadata": {
        "id": "2yaRs43pFVYN",
        "outputId": "c244e72f-8246-478c-f11f-033ebdd17699"
      },
      "outputs": [
        {
          "data": {
            "text/plain": [
              "0      35.0\n",
              "1      29.0\n",
              "2       NaN\n",
              "3      23.0\n",
              "4      35.0\n",
              "       ... \n",
              "763    48.0\n",
              "764    27.0\n",
              "765    23.0\n",
              "766     NaN\n",
              "767    31.0\n",
              "Name: Triceps Skin fold thickness, Length: 768, dtype: float64"
            ]
          },
          "execution_count": 47,
          "metadata": {},
          "output_type": "execute_result"
        }
      ],
      "source": [
        "data['Triceps Skin fold thickness']"
      ]
    },
    {
      "cell_type": "code",
      "execution_count": null,
      "metadata": {
        "id": "F9UWdCOlFVYN"
      },
      "outputs": [],
      "source": [
        "data.loc[(data[\"Class\"]==0) & (data['Triceps Skin fold thickness'].isna()),'Triceps Skin fold thickness'] = data[data[\"Class\"]==0]['Triceps Skin fold thickness'].median()\n",
        "data.loc[(data[\"Class\"]==1) & (data['Triceps Skin fold thickness'].isna()),'Triceps Skin fold thickness'] = data[data[\"Class\"]==1]['Triceps Skin fold thickness'].median()"
      ]
    },
    {
      "cell_type": "code",
      "execution_count": null,
      "metadata": {
        "id": "2A5QqfqKFVYO",
        "outputId": "f57f4548-5100-4c2b-87e8-8b8a966e5b62"
      },
      "outputs": [
        {
          "data": {
            "text/plain": [
              "Number of times Pregnant         0\n",
              "Plasma Concentration             0\n",
              "Diastolic BP                     0\n",
              "Triceps Skin fold thickness      0\n",
              "insulin                        376\n",
              "BMI                             14\n",
              "Age                              2\n",
              "Class                            0\n",
              "dtype: int64"
            ]
          },
          "execution_count": 49,
          "metadata": {},
          "output_type": "execute_result"
        }
      ],
      "source": [
        "data.isna().sum()"
      ]
    },
    {
      "cell_type": "code",
      "execution_count": null,
      "metadata": {
        "id": "UJoky3WCFVYO",
        "outputId": "f66ca87e-036b-4c0b-deb0-c9df06b3dd53"
      },
      "outputs": [
        {
          "data": {
            "text/html": [
              "<div>\n",
              "<style scoped>\n",
              "    .dataframe tbody tr th:only-of-type {\n",
              "        vertical-align: middle;\n",
              "    }\n",
              "\n",
              "    .dataframe tbody tr th {\n",
              "        vertical-align: top;\n",
              "    }\n",
              "\n",
              "    .dataframe thead th {\n",
              "        text-align: right;\n",
              "    }\n",
              "</style>\n",
              "<table border=\"1\" class=\"dataframe\">\n",
              "  <thead>\n",
              "    <tr style=\"text-align: right;\">\n",
              "      <th></th>\n",
              "      <th>insulin</th>\n",
              "    </tr>\n",
              "  </thead>\n",
              "  <tbody>\n",
              "    <tr>\n",
              "      <th>count</th>\n",
              "      <td>392.000000</td>\n",
              "    </tr>\n",
              "    <tr>\n",
              "      <th>mean</th>\n",
              "      <td>157.956633</td>\n",
              "    </tr>\n",
              "    <tr>\n",
              "      <th>std</th>\n",
              "      <td>142.317414</td>\n",
              "    </tr>\n",
              "    <tr>\n",
              "      <th>min</th>\n",
              "      <td>14.000000</td>\n",
              "    </tr>\n",
              "    <tr>\n",
              "      <th>25%</th>\n",
              "      <td>76.000000</td>\n",
              "    </tr>\n",
              "    <tr>\n",
              "      <th>50%</th>\n",
              "      <td>125.000000</td>\n",
              "    </tr>\n",
              "    <tr>\n",
              "      <th>75%</th>\n",
              "      <td>190.000000</td>\n",
              "    </tr>\n",
              "    <tr>\n",
              "      <th>max</th>\n",
              "      <td>1846.000000</td>\n",
              "    </tr>\n",
              "  </tbody>\n",
              "</table>\n",
              "</div>"
            ],
            "text/plain": [
              "           insulin\n",
              "count   392.000000\n",
              "mean    157.956633\n",
              "std     142.317414\n",
              "min      14.000000\n",
              "25%      76.000000\n",
              "50%     125.000000\n",
              "75%     190.000000\n",
              "max    1846.000000"
            ]
          },
          "execution_count": 50,
          "metadata": {},
          "output_type": "execute_result"
        }
      ],
      "source": [
        "data[['insulin']].describe()"
      ]
    },
    {
      "cell_type": "code",
      "execution_count": null,
      "metadata": {
        "id": "Wzaa8aPlFVYO",
        "outputId": "1b42d7ff-9d30-4a86-91e0-1af7475a41fa"
      },
      "outputs": [
        {
          "name": "stderr",
          "output_type": "stream",
          "text": [
            "C:\\ProgramData\\Anaconda3\\lib\\site-packages\\seaborn\\_decorators.py:36: FutureWarning: Pass the following variable as a keyword arg: x. From version 0.12, the only valid positional argument will be `data`, and passing other arguments without an explicit keyword will result in an error or misinterpretation.\n",
            "  warnings.warn(\n"
          ]
        },
        {
          "data": {
            "text/plain": [
              "<AxesSubplot:xlabel='insulin'>"
            ]
          },
          "execution_count": 51,
          "metadata": {},
          "output_type": "execute_result"
        },
        {
          "data": {
            "image/png": "[encoded data removed]",
            "text/plain": [
              "<Figure size 432x288 with 1 Axes>"
            ]
          },
          "metadata": {
            "needs_background": "light"
          },
          "output_type": "display_data"
        }
      ],
      "source": [
        "sns.boxplot(data['insulin'])"
      ]
    },
    {
      "cell_type": "code",
      "execution_count": null,
      "metadata": {
        "id": "YqOziNE4FVYO",
        "outputId": "f6a30cba-4393-47a2-c14d-dc4a035a19fd"
      },
      "outputs": [
        {
          "data": {
            "text/plain": [
              "25"
            ]
          },
          "execution_count": 52,
          "metadata": {},
          "output_type": "execute_result"
        }
      ],
      "source": [
        "data['insulin'][data['insulin'] > 350].count()"
      ]
    },
    {
      "cell_type": "code",
      "execution_count": null,
      "metadata": {
        "id": "iXbcS37eFVYO"
      },
      "outputs": [],
      "source": [
        "data['insulin'] = np.where(data['insulin'] > 350, np.NaN, data['insulin'])"
      ]
    },
    {
      "cell_type": "code",
      "execution_count": null,
      "metadata": {
        "id": "g30ctMZTFVYO",
        "outputId": "5d8d6bcf-7685-4690-9a59-f524fbf74681"
      },
      "outputs": [
        {
          "data": {
            "text/plain": [
              "401"
            ]
          },
          "execution_count": 54,
          "metadata": {},
          "output_type": "execute_result"
        }
      ],
      "source": [
        "data.insulin.isna().sum()"
      ]
    },
    {
      "cell_type": "code",
      "execution_count": null,
      "metadata": {
        "id": "mq3y6FI6FVYO",
        "outputId": "bcb2d152-7987-4dbc-ab9e-5ea962be05cb"
      },
      "outputs": [
        {
          "data": {
            "text/plain": [
              "131.71389645776566"
            ]
          },
          "execution_count": 55,
          "metadata": {},
          "output_type": "execute_result"
        }
      ],
      "source": [
        "data.insulin.mean()"
      ]
    },
    {
      "cell_type": "code",
      "execution_count": null,
      "metadata": {
        "id": "W5HGyCjYFVYO",
        "outputId": "1712d043-f8ca-43fa-9ce5-cdcef07cd9e4"
      },
      "outputs": [
        {
          "data": {
            "text/plain": [
              "119.0"
            ]
          },
          "execution_count": 56,
          "metadata": {},
          "output_type": "execute_result"
        }
      ],
      "source": [
        "data.insulin.median()"
      ]
    },
    {
      "cell_type": "code",
      "execution_count": null,
      "metadata": {
        "id": "aE9gyppRFVYP"
      },
      "outputs": [],
      "source": [
        "data.loc[(data[\"Class\"]==0) & (data['insulin'].isna()),'insulin'] = data[data[\"Class\"]==0]['insulin'].median()\n",
        "data.loc[(data[\"Class\"]==1) & (data['insulin'].isna()),'insulin'] = data[data[\"Class\"]==1]['insulin'].median()"
      ]
    },
    {
      "cell_type": "code",
      "execution_count": null,
      "metadata": {
        "id": "COYUa0K1FVYP",
        "outputId": "579964e7-c542-4ea6-f8e8-5c0b260497aa"
      },
      "outputs": [
        {
          "data": {
            "text/plain": [
              "Number of times Pregnant        0\n",
              "Plasma Concentration            0\n",
              "Diastolic BP                    0\n",
              "Triceps Skin fold thickness     0\n",
              "insulin                         0\n",
              "BMI                            14\n",
              "Age                             2\n",
              "Class                           0\n",
              "dtype: int64"
            ]
          },
          "execution_count": 58,
          "metadata": {},
          "output_type": "execute_result"
        }
      ],
      "source": [
        "data.isna().sum()"
      ]
    },
    {
      "cell_type": "code",
      "execution_count": null,
      "metadata": {
        "id": "ATDKXUvgFVYP"
      },
      "outputs": [],
      "source": [
        "data.loc[(data[\"Class\"]==0) & (data['BMI'].isna()),'BMI'] = data[data[\"Class\"]==0]['BMI'].median()\n",
        "data.loc[(data[\"Class\"]==1) & (data['BMI'].isna()),'BMI'] = data[data[\"Class\"]==1]['BMI'].median()"
      ]
    },
    {
      "cell_type": "code",
      "execution_count": null,
      "metadata": {
        "id": "JP_Ge0wFFVYP",
        "outputId": "58d61923-e8c7-4a96-f7d5-119a1117c9ac"
      },
      "outputs": [
        {
          "data": {
            "text/plain": [
              "count    768.000000\n",
              "mean      32.442448\n",
              "std        6.866066\n",
              "min       18.200000\n",
              "25%       27.600000\n",
              "50%       32.050000\n",
              "75%       36.525000\n",
              "max       67.100000\n",
              "Name: BMI, dtype: float64"
            ]
          },
          "execution_count": 60,
          "metadata": {},
          "output_type": "execute_result"
        }
      ],
      "source": [
        "data.BMI.describe()"
      ]
    },
    {
      "cell_type": "code",
      "execution_count": null,
      "metadata": {
        "id": "4O1lKWWjFVYP",
        "outputId": "d9654312-be2c-4c64-a085-80a2793764fc"
      },
      "outputs": [
        {
          "data": {
            "text/plain": [
              "Number of times Pregnant       0\n",
              "Plasma Concentration           0\n",
              "Diastolic BP                   0\n",
              "Triceps Skin fold thickness    0\n",
              "insulin                        0\n",
              "BMI                            0\n",
              "Age                            2\n",
              "Class                          0\n",
              "dtype: int64"
            ]
          },
          "execution_count": 61,
          "metadata": {},
          "output_type": "execute_result"
        }
      ],
      "source": [
        "data.isna().sum()"
      ]
    },
    {
      "cell_type": "code",
      "execution_count": null,
      "metadata": {
        "id": "yEwN5UgoFVYP",
        "outputId": "405d57e6-dc88-44c5-d551-0537aebe7327"
      },
      "outputs": [
        {
          "data": {
            "text/plain": [
              "count    766.000000\n",
              "mean      33.197128\n",
              "std       11.868189\n",
              "min      -12.000000\n",
              "25%       24.000000\n",
              "50%       29.000000\n",
              "75%       41.000000\n",
              "max       81.000000\n",
              "Name: Age, dtype: float64"
            ]
          },
          "execution_count": 62,
          "metadata": {},
          "output_type": "execute_result"
        }
      ],
      "source": [
        "data.Age.describe()"
      ]
    },
    {
      "cell_type": "code",
      "execution_count": null,
      "metadata": {
        "id": "p3fk2nBvFVYP"
      },
      "outputs": [],
      "source": [
        "data['Age'] = np.where(data['Age'] < 0, np.NaN, data['Age'])"
      ]
    },
    {
      "cell_type": "code",
      "execution_count": null,
      "metadata": {
        "id": "Cl-7OI6bFVYP",
        "outputId": "84baff21-db73-45f4-d266-25a8436392ab"
      },
      "outputs": [
        {
          "data": {
            "text/plain": [
              "Number of times Pregnant       0\n",
              "Plasma Concentration           0\n",
              "Diastolic BP                   0\n",
              "Triceps Skin fold thickness    0\n",
              "insulin                        0\n",
              "BMI                            0\n",
              "Age                            3\n",
              "Class                          0\n",
              "dtype: int64"
            ]
          },
          "execution_count": 64,
          "metadata": {},
          "output_type": "execute_result"
        }
      ],
      "source": [
        "data.isna().sum()"
      ]
    },
    {
      "cell_type": "code",
      "execution_count": null,
      "metadata": {
        "id": "brKBFoGpFVYP",
        "outputId": "9d58b3e8-7555-449c-874c-9ca4e48bb708"
      },
      "outputs": [
        {
          "data": {
            "text/plain": [
              "0    22.0\n",
              "dtype: float64"
            ]
          },
          "execution_count": 65,
          "metadata": {},
          "output_type": "execute_result"
        }
      ],
      "source": [
        "data.Age.mode()"
      ]
    },
    {
      "cell_type": "code",
      "execution_count": null,
      "metadata": {
        "id": "1loh7jtcFVYP"
      },
      "outputs": [],
      "source": [
        "data.Age.fillna(22,inplace = True)"
      ]
    },
    {
      "cell_type": "code",
      "execution_count": null,
      "metadata": {
        "id": "ebmAuiUwFVYP",
        "outputId": "32de45af-b937-4c82-f057-b138e42ce0c7"
      },
      "outputs": [
        {
          "data": {
            "text/plain": [
              "Number of times Pregnant       0\n",
              "Plasma Concentration           0\n",
              "Diastolic BP                   0\n",
              "Triceps Skin fold thickness    0\n",
              "insulin                        0\n",
              "BMI                            0\n",
              "Age                            0\n",
              "Class                          0\n",
              "dtype: int64"
            ]
          },
          "execution_count": 67,
          "metadata": {},
          "output_type": "execute_result"
        }
      ],
      "source": [
        "data.isna().sum()"
      ]
    },
    {
      "cell_type": "code",
      "execution_count": null,
      "metadata": {
        "id": "1rcB8y4ZFVYP"
      },
      "outputs": [],
      "source": [
        "df = data"
      ]
    },
    {
      "cell_type": "markdown",
      "metadata": {
        "id": "3o07NUHdFVYQ"
      },
      "source": [
        "## Our final data is ready and exported into Excel"
      ]
    },
    {
      "cell_type": "code",
      "execution_count": null,
      "metadata": {
        "id": "3qC6GPIaFVYQ"
      },
      "outputs": [],
      "source": [
        "df.to_excel('Final.xlsx', index=False)"
      ]
    },
    {
      "cell_type": "code",
      "execution_count": null,
      "metadata": {
        "id": "uhlYao7DFVYQ",
        "outputId": "616c3edb-c978-4ba8-cb34-04d2178a55c5"
      },
      "outputs": [
        {
          "data": {
            "text/html": [
              "<div>\n",
              "<style scoped>\n",
              "    .dataframe tbody tr th:only-of-type {\n",
              "        vertical-align: middle;\n",
              "    }\n",
              "\n",
              "    .dataframe tbody tr th {\n",
              "        vertical-align: top;\n",
              "    }\n",
              "\n",
              "    .dataframe thead th {\n",
              "        text-align: right;\n",
              "    }\n",
              "</style>\n",
              "<table border=\"1\" class=\"dataframe\">\n",
              "  <thead>\n",
              "    <tr style=\"text-align: right;\">\n",
              "      <th></th>\n",
              "      <th>Number of times Pregnant</th>\n",
              "      <th>Plasma Concentration</th>\n",
              "      <th>Diastolic BP</th>\n",
              "      <th>Triceps Skin fold thickness</th>\n",
              "      <th>insulin</th>\n",
              "      <th>BMI</th>\n",
              "      <th>Age</th>\n",
              "      <th>Class</th>\n",
              "    </tr>\n",
              "  </thead>\n",
              "  <tbody>\n",
              "    <tr>\n",
              "      <th>0</th>\n",
              "      <td>6.0</td>\n",
              "      <td>148.000000</td>\n",
              "      <td>72.0</td>\n",
              "      <td>35.0</td>\n",
              "      <td>160.0</td>\n",
              "      <td>33.6</td>\n",
              "      <td>50.0</td>\n",
              "      <td>1</td>\n",
              "    </tr>\n",
              "    <tr>\n",
              "      <th>1</th>\n",
              "      <td>1.0</td>\n",
              "      <td>85.000000</td>\n",
              "      <td>66.0</td>\n",
              "      <td>29.0</td>\n",
              "      <td>97.5</td>\n",
              "      <td>26.6</td>\n",
              "      <td>31.0</td>\n",
              "      <td>0</td>\n",
              "    </tr>\n",
              "    <tr>\n",
              "      <th>2</th>\n",
              "      <td>8.0</td>\n",
              "      <td>183.000000</td>\n",
              "      <td>64.0</td>\n",
              "      <td>32.0</td>\n",
              "      <td>160.0</td>\n",
              "      <td>23.3</td>\n",
              "      <td>32.0</td>\n",
              "      <td>1</td>\n",
              "    </tr>\n",
              "    <tr>\n",
              "      <th>3</th>\n",
              "      <td>1.0</td>\n",
              "      <td>89.000000</td>\n",
              "      <td>66.0</td>\n",
              "      <td>23.0</td>\n",
              "      <td>94.0</td>\n",
              "      <td>28.1</td>\n",
              "      <td>21.0</td>\n",
              "      <td>0</td>\n",
              "    </tr>\n",
              "    <tr>\n",
              "      <th>4</th>\n",
              "      <td>0.0</td>\n",
              "      <td>137.000000</td>\n",
              "      <td>40.0</td>\n",
              "      <td>35.0</td>\n",
              "      <td>168.0</td>\n",
              "      <td>43.1</td>\n",
              "      <td>33.0</td>\n",
              "      <td>1</td>\n",
              "    </tr>\n",
              "    <tr>\n",
              "      <th>...</th>\n",
              "      <td>...</td>\n",
              "      <td>...</td>\n",
              "      <td>...</td>\n",
              "      <td>...</td>\n",
              "      <td>...</td>\n",
              "      <td>...</td>\n",
              "      <td>...</td>\n",
              "      <td>...</td>\n",
              "    </tr>\n",
              "    <tr>\n",
              "      <th>763</th>\n",
              "      <td>10.0</td>\n",
              "      <td>101.000000</td>\n",
              "      <td>76.0</td>\n",
              "      <td>48.0</td>\n",
              "      <td>180.0</td>\n",
              "      <td>32.9</td>\n",
              "      <td>63.0</td>\n",
              "      <td>0</td>\n",
              "    </tr>\n",
              "    <tr>\n",
              "      <th>764</th>\n",
              "      <td>2.0</td>\n",
              "      <td>122.000000</td>\n",
              "      <td>70.0</td>\n",
              "      <td>27.0</td>\n",
              "      <td>97.5</td>\n",
              "      <td>36.8</td>\n",
              "      <td>27.0</td>\n",
              "      <td>0</td>\n",
              "    </tr>\n",
              "    <tr>\n",
              "      <th>765</th>\n",
              "      <td>5.0</td>\n",
              "      <td>121.000000</td>\n",
              "      <td>72.0</td>\n",
              "      <td>23.0</td>\n",
              "      <td>112.0</td>\n",
              "      <td>26.2</td>\n",
              "      <td>30.0</td>\n",
              "      <td>0</td>\n",
              "    </tr>\n",
              "    <tr>\n",
              "      <th>766</th>\n",
              "      <td>1.0</td>\n",
              "      <td>126.000000</td>\n",
              "      <td>60.0</td>\n",
              "      <td>32.0</td>\n",
              "      <td>160.0</td>\n",
              "      <td>30.1</td>\n",
              "      <td>47.0</td>\n",
              "      <td>1</td>\n",
              "    </tr>\n",
              "    <tr>\n",
              "      <th>767</th>\n",
              "      <td>1.0</td>\n",
              "      <td>110.679435</td>\n",
              "      <td>70.0</td>\n",
              "      <td>31.0</td>\n",
              "      <td>97.5</td>\n",
              "      <td>30.4</td>\n",
              "      <td>23.0</td>\n",
              "      <td>0</td>\n",
              "    </tr>\n",
              "  </tbody>\n",
              "</table>\n",
              "<p>768 rows × 8 columns</p>\n",
              "</div>"
            ],
            "text/plain": [
              "     Number of times Pregnant  Plasma Concentration  Diastolic BP  \\\n",
              "0                         6.0            148.000000          72.0   \n",
              "1                         1.0             85.000000          66.0   \n",
              "2                         8.0            183.000000          64.0   \n",
              "3                         1.0             89.000000          66.0   \n",
              "4                         0.0            137.000000          40.0   \n",
              "..                        ...                   ...           ...   \n",
              "763                      10.0            101.000000          76.0   \n",
              "764                       2.0            122.000000          70.0   \n",
              "765                       5.0            121.000000          72.0   \n",
              "766                       1.0            126.000000          60.0   \n",
              "767                       1.0            110.679435          70.0   \n",
              "\n",
              "     Triceps Skin fold thickness  insulin   BMI   Age  Class  \n",
              "0                           35.0    160.0  33.6  50.0      1  \n",
              "1                           29.0     97.5  26.6  31.0      0  \n",
              "2                           32.0    160.0  23.3  32.0      1  \n",
              "3                           23.0     94.0  28.1  21.0      0  \n",
              "4                           35.0    168.0  43.1  33.0      1  \n",
              "..                           ...      ...   ...   ...    ...  \n",
              "763                         48.0    180.0  32.9  63.0      0  \n",
              "764                         27.0     97.5  36.8  27.0      0  \n",
              "765                         23.0    112.0  26.2  30.0      0  \n",
              "766                         32.0    160.0  30.1  47.0      1  \n",
              "767                         31.0     97.5  30.4  23.0      0  \n",
              "\n",
              "[768 rows x 8 columns]"
            ]
          },
          "execution_count": 70,
          "metadata": {},
          "output_type": "execute_result"
        }
      ],
      "source": [
        "df"
      ]
    },
    {
      "cell_type": "code",
      "execution_count": null,
      "metadata": {
        "scrolled": true,
        "id": "DDamr8mcFVYQ",
        "outputId": "468e886d-2b24-4cee-b810-a8ad0ec7e930"
      },
      "outputs": [
        {
          "data": {
            "text/plain": [
              "0    500\n",
              "1    268\n",
              "Name: Class, dtype: int64"
            ]
          },
          "execution_count": 71,
          "metadata": {},
          "output_type": "execute_result"
        }
      ],
      "source": [
        "df.Class.value_counts()"
      ]
    },
    {
      "cell_type": "code",
      "execution_count": null,
      "metadata": {
        "id": "McQ9eQ6UFVYQ",
        "outputId": "8df252cb-b06e-4743-e05d-e7e5683a3439"
      },
      "outputs": [
        {
          "data": {
            "text/plain": [
              "<AxesSubplot:>"
            ]
          },
          "execution_count": 72,
          "metadata": {},
          "output_type": "execute_result"
        },
        {
          "data": {
            "image/png": "[encoded data removed]",
            "text/plain": [
              "<Figure size 576x504 with 2 Axes>"
            ]
          },
          "metadata": {
            "needs_background": "light"
          },
          "output_type": "display_data"
        }
      ],
      "source": [
        "plt.figure(figsize=(8,7))\n",
        "sns.heatmap(df.corr(),cmap='Blues',annot=True)"
      ]
    },
    {
      "cell_type": "markdown",
      "metadata": {
        "id": "ubWBnllwFVYQ"
      },
      "source": [
        "##### 1. There is no relation between two features."
      ]
    },
    {
      "cell_type": "code",
      "execution_count": null,
      "metadata": {
        "id": "wZxpiJcWFVYQ",
        "outputId": "ecaae9d3-529b-44ae-d0cf-cc5598baddd6"
      },
      "outputs": [
        {
          "data": {
            "text/plain": [
              "Index(['Number of times Pregnant', 'Plasma Concentration', 'Diastolic BP',\n",
              "       'Triceps Skin fold thickness', 'insulin', 'BMI', 'Age', 'Class'],\n",
              "      dtype='object')"
            ]
          },
          "execution_count": 73,
          "metadata": {},
          "output_type": "execute_result"
        }
      ],
      "source": [
        "df.columns"
      ]
    },
    {
      "cell_type": "code",
      "execution_count": null,
      "metadata": {
        "id": "fW9dCMSYFVYQ"
      },
      "outputs": [],
      "source": [
        "c = ['Number of times Pregnant', 'Plasma Concentration', 'Diastolic BP',\n",
        "       'Triceps Skin fold thickness', 'insulin', 'BMI', 'Age']"
      ]
    },
    {
      "cell_type": "code",
      "execution_count": null,
      "metadata": {
        "id": "o8Vt613VFVYQ",
        "outputId": "6ed18e4e-4456-4dcd-ac22-41512cd27a97"
      },
      "outputs": [
        {
          "data": {
            "text/html": [
              "<div>\n",
              "<style scoped>\n",
              "    .dataframe tbody tr th:only-of-type {\n",
              "        vertical-align: middle;\n",
              "    }\n",
              "\n",
              "    .dataframe tbody tr th {\n",
              "        vertical-align: top;\n",
              "    }\n",
              "\n",
              "    .dataframe thead th {\n",
              "        text-align: right;\n",
              "    }\n",
              "</style>\n",
              "<table border=\"1\" class=\"dataframe\">\n",
              "  <thead>\n",
              "    <tr style=\"text-align: right;\">\n",
              "      <th></th>\n",
              "      <th>Number of times Pregnant</th>\n",
              "      <th>Plasma Concentration</th>\n",
              "      <th>Diastolic BP</th>\n",
              "      <th>Triceps Skin fold thickness</th>\n",
              "      <th>insulin</th>\n",
              "      <th>BMI</th>\n",
              "      <th>Age</th>\n",
              "      <th>Class</th>\n",
              "    </tr>\n",
              "  </thead>\n",
              "  <tbody>\n",
              "    <tr>\n",
              "      <th>count</th>\n",
              "      <td>768.000000</td>\n",
              "      <td>768.000000</td>\n",
              "      <td>768.000000</td>\n",
              "      <td>768.000000</td>\n",
              "      <td>768.000000</td>\n",
              "      <td>768.000000</td>\n",
              "      <td>768.000000</td>\n",
              "      <td>768.000000</td>\n",
              "    </tr>\n",
              "    <tr>\n",
              "      <th>mean</th>\n",
              "      <td>3.833333</td>\n",
              "      <td>121.761759</td>\n",
              "      <td>72.675534</td>\n",
              "      <td>28.869792</td>\n",
              "      <td>126.300781</td>\n",
              "      <td>32.442448</td>\n",
              "      <td>33.212240</td>\n",
              "      <td>0.348958</td>\n",
              "    </tr>\n",
              "    <tr>\n",
              "      <th>std</th>\n",
              "      <td>3.375011</td>\n",
              "      <td>30.453828</td>\n",
              "      <td>11.705320</td>\n",
              "      <td>8.294371</td>\n",
              "      <td>55.555903</td>\n",
              "      <td>6.866066</td>\n",
              "      <td>11.760673</td>\n",
              "      <td>0.476951</td>\n",
              "    </tr>\n",
              "    <tr>\n",
              "      <th>min</th>\n",
              "      <td>0.000000</td>\n",
              "      <td>44.000000</td>\n",
              "      <td>40.000000</td>\n",
              "      <td>7.000000</td>\n",
              "      <td>14.000000</td>\n",
              "      <td>18.200000</td>\n",
              "      <td>21.000000</td>\n",
              "      <td>0.000000</td>\n",
              "    </tr>\n",
              "    <tr>\n",
              "      <th>25%</th>\n",
              "      <td>1.000000</td>\n",
              "      <td>100.000000</td>\n",
              "      <td>64.000000</td>\n",
              "      <td>25.000000</td>\n",
              "      <td>97.500000</td>\n",
              "      <td>27.600000</td>\n",
              "      <td>24.000000</td>\n",
              "      <td>0.000000</td>\n",
              "    </tr>\n",
              "    <tr>\n",
              "      <th>50%</th>\n",
              "      <td>3.000000</td>\n",
              "      <td>117.000000</td>\n",
              "      <td>72.000000</td>\n",
              "      <td>28.000000</td>\n",
              "      <td>97.500000</td>\n",
              "      <td>32.050000</td>\n",
              "      <td>29.000000</td>\n",
              "      <td>0.000000</td>\n",
              "    </tr>\n",
              "    <tr>\n",
              "      <th>75%</th>\n",
              "      <td>6.000000</td>\n",
              "      <td>141.000000</td>\n",
              "      <td>80.000000</td>\n",
              "      <td>32.000000</td>\n",
              "      <td>160.000000</td>\n",
              "      <td>36.525000</td>\n",
              "      <td>41.000000</td>\n",
              "      <td>1.000000</td>\n",
              "    </tr>\n",
              "    <tr>\n",
              "      <th>max</th>\n",
              "      <td>17.000000</td>\n",
              "      <td>199.000000</td>\n",
              "      <td>122.000000</td>\n",
              "      <td>54.000000</td>\n",
              "      <td>342.000000</td>\n",
              "      <td>67.100000</td>\n",
              "      <td>81.000000</td>\n",
              "      <td>1.000000</td>\n",
              "    </tr>\n",
              "  </tbody>\n",
              "</table>\n",
              "</div>"
            ],
            "text/plain": [
              "       Number of times Pregnant  Plasma Concentration  Diastolic BP  \\\n",
              "count                768.000000            768.000000    768.000000   \n",
              "mean                   3.833333            121.761759     72.675534   \n",
              "std                    3.375011             30.453828     11.705320   \n",
              "min                    0.000000             44.000000     40.000000   \n",
              "25%                    1.000000            100.000000     64.000000   \n",
              "50%                    3.000000            117.000000     72.000000   \n",
              "75%                    6.000000            141.000000     80.000000   \n",
              "max                   17.000000            199.000000    122.000000   \n",
              "\n",
              "       Triceps Skin fold thickness     insulin         BMI         Age  \\\n",
              "count                   768.000000  768.000000  768.000000  768.000000   \n",
              "mean                     28.869792  126.300781   32.442448   33.212240   \n",
              "std                       8.294371   55.555903    6.866066   11.760673   \n",
              "min                       7.000000   14.000000   18.200000   21.000000   \n",
              "25%                      25.000000   97.500000   27.600000   24.000000   \n",
              "50%                      28.000000   97.500000   32.050000   29.000000   \n",
              "75%                      32.000000  160.000000   36.525000   41.000000   \n",
              "max                      54.000000  342.000000   67.100000   81.000000   \n",
              "\n",
              "            Class  \n",
              "count  768.000000  \n",
              "mean     0.348958  \n",
              "std      0.476951  \n",
              "min      0.000000  \n",
              "25%      0.000000  \n",
              "50%      0.000000  \n",
              "75%      1.000000  \n",
              "max      1.000000  "
            ]
          },
          "execution_count": 75,
          "metadata": {},
          "output_type": "execute_result"
        }
      ],
      "source": [
        "df.describe()"
      ]
    },
    {
      "cell_type": "code",
      "execution_count": null,
      "metadata": {
        "scrolled": true,
        "id": "u1cPA617FVYQ",
        "outputId": "845a3321-1f74-42a4-8fcd-34e3e9add249"
      },
      "outputs": [
        {
          "data": {
            "text/plain": [
              "1.0     135\n",
              "0.0     113\n",
              "2.0     103\n",
              "3.0      75\n",
              "4.0      67\n",
              "5.0      56\n",
              "6.0      50\n",
              "7.0      45\n",
              "8.0      38\n",
              "9.0      28\n",
              "10.0     24\n",
              "11.0     11\n",
              "13.0     10\n",
              "12.0      9\n",
              "14.0      2\n",
              "15.0      1\n",
              "17.0      1\n",
              "Name: Number of times Pregnant, dtype: int64"
            ]
          },
          "execution_count": 76,
          "metadata": {},
          "output_type": "execute_result"
        }
      ],
      "source": [
        "df['Number of times Pregnant'].value_counts()"
      ]
    },
    {
      "cell_type": "code",
      "execution_count": null,
      "metadata": {
        "scrolled": true,
        "id": "57ywol4HFVYQ",
        "outputId": "0a7e8e5a-226e-4ce5-85a5-ede6d6a90e5e"
      },
      "outputs": [
        {
          "data": {
            "text/plain": [
              "<BarContainer object of 17 artists>"
            ]
          },
          "execution_count": 77,
          "metadata": {},
          "output_type": "execute_result"
        },
        {
          "data": {
            "image/png": "[encoded data removed]",
            "text/plain": [
              "<Figure size 432x288 with 1 Axes>"
            ]
          },
          "metadata": {
            "needs_background": "light"
          },
          "output_type": "display_data"
        }
      ],
      "source": [
        "plt.bar(pd.DataFrame(df['Number of times Pregnant'].value_counts()).index, df['Number of times Pregnant'].value_counts(), color ='maroon', width = 0.8)"
      ]
    },
    {
      "cell_type": "markdown",
      "metadata": {
        "id": "FHPFkPPNFVYQ"
      },
      "source": [
        "##### 2. 50% of the women got pregnent 3 or less time and 25% of the women got pregnent over 6 times\n",
        "##### 3. 34 women got pregnent over 10 times"
      ]
    },
    {
      "cell_type": "code",
      "execution_count": null,
      "metadata": {
        "scrolled": true,
        "id": "7JjlH-tcFVYR",
        "outputId": "18044845-0371-4662-ebf5-ee676f17c798"
      },
      "outputs": [
        {
          "data": {
            "text/plain": [
              "(array([  4.,  19.,  87., 148., 164., 125.,  91.,  54.,  44.,  32.]),\n",
              " array([ 44. ,  59.5,  75. ,  90.5, 106. , 121.5, 137. , 152.5, 168. ,\n",
              "        183.5, 199. ]),\n",
              " <BarContainer object of 10 artists>)"
            ]
          },
          "execution_count": 78,
          "metadata": {},
          "output_type": "execute_result"
        },
        {
          "data": {
            "image/png": "[encoded data removed]",
            "text/plain": [
              "<Figure size 432x288 with 1 Axes>"
            ]
          },
          "metadata": {
            "needs_background": "light"
          },
          "output_type": "display_data"
        }
      ],
      "source": [
        "plt.hist(df['Plasma Concentration'], range = (df['Plasma Concentration'].min(), df['Plasma Concentration'].max()), bins=10)"
      ]
    },
    {
      "cell_type": "code",
      "execution_count": null,
      "metadata": {
        "id": "YJT0zU6uFVYR",
        "outputId": "cf20fcec-ed49-49e3-e8e4-1c7da23672c4"
      },
      "outputs": [
        {
          "name": "stderr",
          "output_type": "stream",
          "text": [
            "C:\\ProgramData\\Anaconda3\\lib\\site-packages\\seaborn\\_decorators.py:36: FutureWarning: Pass the following variable as a keyword arg: x. From version 0.12, the only valid positional argument will be `data`, and passing other arguments without an explicit keyword will result in an error or misinterpretation.\n",
            "  warnings.warn(\n"
          ]
        },
        {
          "data": {
            "text/plain": [
              "<AxesSubplot:xlabel='Plasma Concentration'>"
            ]
          },
          "execution_count": 79,
          "metadata": {},
          "output_type": "execute_result"
        },
        {
          "data": {
            "image/png": "[encoded data removed]",
            "text/plain": [
              "<Figure size 432x288 with 1 Axes>"
            ]
          },
          "metadata": {
            "needs_background": "light"
          },
          "output_type": "display_data"
        }
      ],
      "source": [
        "sns.boxplot(df['Plasma Concentration'])"
      ]
    },
    {
      "cell_type": "markdown",
      "metadata": {
        "id": "_n6mJyBAFVYR"
      },
      "source": [
        "#### 4. 50% of the women has the plasma concentration between 100 and 141"
      ]
    },
    {
      "cell_type": "code",
      "execution_count": null,
      "metadata": {
        "id": "xXRgc_IUFVYR",
        "outputId": "529cdb0b-e255-4a3e-e9fd-622660040293"
      },
      "outputs": [
        {
          "data": {
            "text/plain": [
              "<AxesSubplot:xlabel='Age', ylabel='Count'>"
            ]
          },
          "execution_count": 80,
          "metadata": {},
          "output_type": "execute_result"
        },
        {
          "data": {
            "image/png": "[encoded data removed]",
            "text/plain": [
              "<Figure size 432x288 with 1 Axes>"
            ]
          },
          "metadata": {
            "needs_background": "light"
          },
          "output_type": "display_data"
        }
      ],
      "source": [
        "sns.histplot(data=df, x=\"Age\", color=\"red\", label=\"Age\", kde=True, hue = \"Class\")"
      ]
    },
    {
      "cell_type": "code",
      "execution_count": null,
      "metadata": {
        "scrolled": true,
        "id": "rQW0ul9_FVYR",
        "outputId": "b21895ca-990d-4d00-d63b-d3acf6677df0"
      },
      "outputs": [
        {
          "data": {
            "text/plain": [
              "<seaborn.axisgrid.FacetGrid at 0x1ba52b6dd00>"
            ]
          },
          "execution_count": 81,
          "metadata": {},
          "output_type": "execute_result"
        },
        {
          "data": {
            "image/png": "[encoded data removed]",
            "text/plain": [
              "<Figure size 3672x432 with 34 Axes>"
            ]
          },
          "metadata": {
            "needs_background": "light"
          },
          "output_type": "display_data"
        }
      ],
      "source": [
        "sns.displot(df, x=\"Class\", col=\"Number of times Pregnant\", row=\"Class\", binwidth=3, height=3, facet_kws=dict(margin_titles=True))"
      ]
    },
    {
      "cell_type": "code",
      "execution_count": null,
      "metadata": {
        "id": "dUoX1O1lFVYR",
        "outputId": "f15e9598-b726-4f8a-cd8b-95767fc8cc38"
      },
      "outputs": [
        {
          "data": {
            "text/plain": [
              "<seaborn.axisgrid.FacetGrid at 0x1ba50e02c40>"
            ]
          },
          "execution_count": 82,
          "metadata": {},
          "output_type": "execute_result"
        },
        {
          "data": {
            "image/png": "[encoded data removed]",
            "text/plain": [
              "<Figure size 402.375x360 with 1 Axes>"
            ]
          },
          "metadata": {
            "needs_background": "light"
          },
          "output_type": "display_data"
        }
      ],
      "source": [
        "sns.relplot(data=df,x=\"Plasma Concentration\", y=\"Diastolic BP\", hue = 'Class')"
      ]
    },
    {
      "cell_type": "code",
      "execution_count": null,
      "metadata": {
        "scrolled": true,
        "id": "YuoH60e3FVYR",
        "outputId": "5ebaba02-18fa-4dea-82ec-ad75022817e3"
      },
      "outputs": [
        {
          "data": {
            "text/plain": [
              "<seaborn.axisgrid.FacetGrid at 0x1ba53fe79d0>"
            ]
          },
          "execution_count": 83,
          "metadata": {},
          "output_type": "execute_result"
        },
        {
          "data": {
            "image/png": "[encoded data removed]",
            "text/plain": [
              "<Figure size 402.375x360 with 1 Axes>"
            ]
          },
          "metadata": {
            "needs_background": "light"
          },
          "output_type": "display_data"
        }
      ],
      "source": [
        "sns.relplot(data=df,x=\"Plasma Concentration\", y=\"insulin\", hue = 'Class')"
      ]
    },
    {
      "cell_type": "code",
      "execution_count": null,
      "metadata": {
        "scrolled": true,
        "id": "Dtj07yh6FVYR",
        "outputId": "355f182e-4ade-45e6-df97-35dbd8045595"
      },
      "outputs": [
        {
          "data": {
            "text/plain": [
              "<seaborn.axisgrid.FacetGrid at 0x1ba53fe1700>"
            ]
          },
          "execution_count": 84,
          "metadata": {},
          "output_type": "execute_result"
        },
        {
          "data": {
            "image/png": "[encoded data removed]",
            "text/plain": [
              "<Figure size 402.375x360 with 1 Axes>"
            ]
          },
          "metadata": {
            "needs_background": "light"
          },
          "output_type": "display_data"
        }
      ],
      "source": [
        "sns.relplot(data=df,x=\"Plasma Concentration\", y=\"Triceps Skin fold thickness\", hue = 'Class')"
      ]
    },
    {
      "cell_type": "code",
      "execution_count": null,
      "metadata": {
        "id": "tgTfK0FyFVYR",
        "outputId": "7c7ab9c3-b55c-48b9-f93b-1afce510ca10"
      },
      "outputs": [
        {
          "data": {
            "text/plain": [
              "<seaborn.axisgrid.FacetGrid at 0x1ba538f8400>"
            ]
          },
          "execution_count": 85,
          "metadata": {},
          "output_type": "execute_result"
        },
        {
          "data": {
            "image/png": "[encoded data removed]",
            "text/plain": [
              "<Figure size 402.375x360 with 1 Axes>"
            ]
          },
          "metadata": {
            "needs_background": "light"
          },
          "output_type": "display_data"
        }
      ],
      "source": [
        "sns.relplot(data=df,x=\"BMI\", y=\"Number of times Pregnant\", hue = 'Class')"
      ]
    },
    {
      "cell_type": "code",
      "execution_count": null,
      "metadata": {
        "id": "B58SkqbnFVYR",
        "outputId": "28c516e4-22db-4489-e9fe-20d33c41f4da"
      },
      "outputs": [
        {
          "data": {
            "text/plain": [
              "<seaborn.axisgrid.FacetGrid at 0x1ba54128700>"
            ]
          },
          "execution_count": 86,
          "metadata": {},
          "output_type": "execute_result"
        },
        {
          "data": {
            "image/png": "[encoded data removed]",
            "text/plain": [
              "<Figure size 474.375x432 with 1 Axes>"
            ]
          },
          "metadata": {
            "needs_background": "light"
          },
          "output_type": "display_data"
        }
      ],
      "source": [
        "#plt.figure(figsize=(40,20))\n",
        "sns.catplot(data=df, kind=\"bar\", x=\"Number of times Pregnant\", y=\"Age\", hue=\"Class\", height= 6, alpha=.8)"
      ]
    },
    {
      "cell_type": "code",
      "execution_count": null,
      "metadata": {
        "scrolled": true,
        "id": "ehaaERaQFVYS",
        "outputId": "6fe5574f-ffe4-4d69-f25b-58da0cc398c6"
      },
      "outputs": [
        {
          "name": "stderr",
          "output_type": "stream",
          "text": [
            "C:\\ProgramData\\Anaconda3\\lib\\site-packages\\seaborn\\distributions.py:1181: UserWarning: The following kwargs were not used by contour: 'kind', 'height'\n",
            "  cset = contour_func(\n"
          ]
        },
        {
          "data": {
            "text/plain": [
              "<AxesSubplot:xlabel='Plasma Concentration', ylabel='Number of times Pregnant'>"
            ]
          },
          "execution_count": 87,
          "metadata": {},
          "output_type": "execute_result"
        },
        {
          "data": {
            "image/png": "[encoded data removed]",
            "text/plain": [
              "<Figure size 432x288 with 1 Axes>"
            ]
          },
          "metadata": {
            "needs_background": "light"
          },
          "output_type": "display_data"
        }
      ],
      "source": [
        "sns.kdeplot(data=df, kind=\"bar\", x=\"Plasma Concentration\", y=\"Number of times Pregnant\", hue=\"Class\",  height= 6, alpha=.8)"
      ]
    },
    {
      "cell_type": "code",
      "execution_count": null,
      "metadata": {
        "id": "5pchrYZnFVYS",
        "outputId": "55f059e6-01fe-42c0-b051-490709ac1126"
      },
      "outputs": [
        {
          "name": "stderr",
          "output_type": "stream",
          "text": [
            "C:\\ProgramData\\Anaconda3\\lib\\site-packages\\seaborn\\distributions.py:1181: UserWarning: The following kwargs were not used by contour: 'kind', 'height'\n",
            "  cset = contour_func(\n"
          ]
        },
        {
          "data": {
            "text/plain": [
              "<AxesSubplot:xlabel='Age', ylabel='Number of times Pregnant'>"
            ]
          },
          "execution_count": 88,
          "metadata": {},
          "output_type": "execute_result"
        },
        {
          "data": {
            "image/png": "[encoded data removed]",
            "text/plain": [
              "<Figure size 432x288 with 1 Axes>"
            ]
          },
          "metadata": {
            "needs_background": "light"
          },
          "output_type": "display_data"
        }
      ],
      "source": [
        "sns.kdeplot(data=df, kind=\"bar\", x=\"Age\", y=\"Number of times Pregnant\", hue=\"Class\",  height= 6, alpha=.8)"
      ]
    },
    {
      "cell_type": "code",
      "execution_count": null,
      "metadata": {
        "scrolled": true,
        "id": "D1kQKIgJFVYS",
        "outputId": "845a18aa-3540-40e4-f7ba-4490c5df52c3"
      },
      "outputs": [
        {
          "data": {
            "text/html": [
              "<div>\n",
              "<style scoped>\n",
              "    .dataframe tbody tr th:only-of-type {\n",
              "        vertical-align: middle;\n",
              "    }\n",
              "\n",
              "    .dataframe tbody tr th {\n",
              "        vertical-align: top;\n",
              "    }\n",
              "\n",
              "    .dataframe thead th {\n",
              "        text-align: right;\n",
              "    }\n",
              "</style>\n",
              "<table border=\"1\" class=\"dataframe\">\n",
              "  <thead>\n",
              "    <tr style=\"text-align: right;\">\n",
              "      <th></th>\n",
              "      <th>Number of times Pregnant</th>\n",
              "      <th>Plasma Concentration</th>\n",
              "      <th>Diastolic BP</th>\n",
              "      <th>Triceps Skin fold thickness</th>\n",
              "      <th>insulin</th>\n",
              "      <th>BMI</th>\n",
              "      <th>Age</th>\n",
              "      <th>Class</th>\n",
              "    </tr>\n",
              "  </thead>\n",
              "  <tbody>\n",
              "    <tr>\n",
              "      <th>0</th>\n",
              "      <td>6.0</td>\n",
              "      <td>148.0</td>\n",
              "      <td>72.0</td>\n",
              "      <td>35.0</td>\n",
              "      <td>160.0</td>\n",
              "      <td>33.6</td>\n",
              "      <td>50.0</td>\n",
              "      <td>1</td>\n",
              "    </tr>\n",
              "    <tr>\n",
              "      <th>1</th>\n",
              "      <td>1.0</td>\n",
              "      <td>85.0</td>\n",
              "      <td>66.0</td>\n",
              "      <td>29.0</td>\n",
              "      <td>97.5</td>\n",
              "      <td>26.6</td>\n",
              "      <td>31.0</td>\n",
              "      <td>0</td>\n",
              "    </tr>\n",
              "    <tr>\n",
              "      <th>2</th>\n",
              "      <td>8.0</td>\n",
              "      <td>183.0</td>\n",
              "      <td>64.0</td>\n",
              "      <td>32.0</td>\n",
              "      <td>160.0</td>\n",
              "      <td>23.3</td>\n",
              "      <td>32.0</td>\n",
              "      <td>1</td>\n",
              "    </tr>\n",
              "    <tr>\n",
              "      <th>3</th>\n",
              "      <td>1.0</td>\n",
              "      <td>89.0</td>\n",
              "      <td>66.0</td>\n",
              "      <td>23.0</td>\n",
              "      <td>94.0</td>\n",
              "      <td>28.1</td>\n",
              "      <td>21.0</td>\n",
              "      <td>0</td>\n",
              "    </tr>\n",
              "    <tr>\n",
              "      <th>4</th>\n",
              "      <td>0.0</td>\n",
              "      <td>137.0</td>\n",
              "      <td>40.0</td>\n",
              "      <td>35.0</td>\n",
              "      <td>168.0</td>\n",
              "      <td>43.1</td>\n",
              "      <td>33.0</td>\n",
              "      <td>1</td>\n",
              "    </tr>\n",
              "  </tbody>\n",
              "</table>\n",
              "</div>"
            ],
            "text/plain": [
              "   Number of times Pregnant  Plasma Concentration  Diastolic BP  \\\n",
              "0                       6.0                 148.0          72.0   \n",
              "1                       1.0                  85.0          66.0   \n",
              "2                       8.0                 183.0          64.0   \n",
              "3                       1.0                  89.0          66.0   \n",
              "4                       0.0                 137.0          40.0   \n",
              "\n",
              "   Triceps Skin fold thickness  insulin   BMI   Age  Class  \n",
              "0                         35.0    160.0  33.6  50.0      1  \n",
              "1                         29.0     97.5  26.6  31.0      0  \n",
              "2                         32.0    160.0  23.3  32.0      1  \n",
              "3                         23.0     94.0  28.1  21.0      0  \n",
              "4                         35.0    168.0  43.1  33.0      1  "
            ]
          },
          "execution_count": 89,
          "metadata": {},
          "output_type": "execute_result"
        }
      ],
      "source": [
        "df.head()"
      ]
    },
    {
      "cell_type": "markdown",
      "metadata": {
        "id": "3tRrqRy4FVYS"
      },
      "source": [
        "##### Now I want to correct this imbalanced data using SMOTE"
      ]
    },
    {
      "cell_type": "code",
      "execution_count": null,
      "metadata": {
        "id": "-b4xwIv9FVYS",
        "outputId": "59e68b55-1991-4ece-b953-29a27643c540"
      },
      "outputs": [
        {
          "data": {
            "text/plain": [
              "0    500\n",
              "1    268\n",
              "Name: Class, dtype: int64"
            ]
          },
          "execution_count": 90,
          "metadata": {},
          "output_type": "execute_result"
        }
      ],
      "source": [
        "df.Class.value_counts()"
      ]
    },
    {
      "cell_type": "code",
      "execution_count": null,
      "metadata": {
        "id": "EL6WM2zbFVYS"
      },
      "outputs": [],
      "source": [
        "smt = SMOTE()"
      ]
    },
    {
      "cell_type": "code",
      "execution_count": null,
      "metadata": {
        "id": "94w0-W24FVYS"
      },
      "outputs": [],
      "source": [
        "X = df.drop('Class', axis = 1)"
      ]
    },
    {
      "cell_type": "code",
      "execution_count": null,
      "metadata": {
        "id": "mtrtWguiFVYS"
      },
      "outputs": [],
      "source": [
        "y = df.Class"
      ]
    },
    {
      "cell_type": "code",
      "execution_count": null,
      "metadata": {
        "id": "4NWMRiC_FVYS"
      },
      "outputs": [],
      "source": [
        "X_res, y_res = smt.fit_resample(X, y)"
      ]
    },
    {
      "cell_type": "code",
      "execution_count": null,
      "metadata": {
        "id": "JiHc-z0_FVYS",
        "outputId": "84363640-937e-4aa2-b951-2910642dd067"
      },
      "outputs": [
        {
          "data": {
            "text/plain": [
              "((1000, 7), (1000,))"
            ]
          },
          "execution_count": 95,
          "metadata": {},
          "output_type": "execute_result"
        }
      ],
      "source": [
        "X_res.shape, y_res.shape"
      ]
    },
    {
      "cell_type": "markdown",
      "metadata": {
        "id": "TkoYrharFVYS"
      },
      "source": [
        "#### Splitting Test and Train"
      ]
    },
    {
      "cell_type": "code",
      "execution_count": null,
      "metadata": {
        "id": "H_NhPgHYFVYS"
      },
      "outputs": [],
      "source": [
        "X_train, X_test, y_train, y_test = train_test_split(X_res, y_res, test_size=0.2, random_state=42)"
      ]
    },
    {
      "cell_type": "markdown",
      "metadata": {
        "id": "nBxbCbP1FVYT"
      },
      "source": [
        "## Different Model training"
      ]
    },
    {
      "cell_type": "markdown",
      "metadata": {
        "id": "prhEPkvOFVYT"
      },
      "source": [
        "#### Logistic Regression"
      ]
    },
    {
      "cell_type": "code",
      "execution_count": null,
      "metadata": {
        "id": "5Y-gVfxvFVYT"
      },
      "outputs": [],
      "source": []
    },
    {
      "cell_type": "code",
      "execution_count": null,
      "metadata": {
        "id": "Ll-0sqdyFVYT",
        "outputId": "3e18d1f1-f6fa-4a55-a2dc-d78328cdc112"
      },
      "outputs": [
        {
          "name": "stdout",
          "output_type": "stream",
          "text": [
            "Training set score: 0.820\n",
            "Test set score: 0.790\n"
          ]
        }
      ],
      "source": [
        "logreg = LogisticRegression().fit(X_train, y_train)\n",
        "print(\"Training set score: {:.3f}\".format(logreg.score(X_train, y_train)))\n",
        "print(\"Test set score: {:.3f}\".format(logreg.score(X_test, y_test)))"
      ]
    },
    {
      "cell_type": "markdown",
      "metadata": {
        "id": "tWZVyOkNFVYT"
      },
      "source": [
        "#### KNN"
      ]
    },
    {
      "cell_type": "code",
      "execution_count": null,
      "metadata": {
        "id": "mDVNjUoXFVYT",
        "outputId": "6d424b56-8a6e-45a7-d454-867f4e1510aa"
      },
      "outputs": [
        {
          "name": "stdout",
          "output_type": "stream",
          "text": [
            "Number of Neighbour: 10\n",
            "Training set score: 0.899\n",
            "Test set score: 0.840\n",
            "Number of Neighbour: 11\n",
            "Training set score: 0.892\n",
            "Test set score: 0.855\n",
            "Number of Neighbour: 12\n",
            "Training set score: 0.886\n",
            "Test set score: 0.850\n",
            "Number of Neighbour: 13\n",
            "Training set score: 0.889\n",
            "Test set score: 0.855\n",
            "Number of Neighbour: 14\n",
            "Training set score: 0.886\n",
            "Test set score: 0.850\n",
            "Number of Neighbour: 15\n",
            "Training set score: 0.885\n",
            "Test set score: 0.855\n",
            "Number of Neighbour: 16\n",
            "Training set score: 0.887\n",
            "Test set score: 0.855\n",
            "Number of Neighbour: 17\n",
            "Training set score: 0.886\n",
            "Test set score: 0.860\n",
            "Number of Neighbour: 18\n",
            "Training set score: 0.882\n",
            "Test set score: 0.855\n",
            "Number of Neighbour: 19\n",
            "Training set score: 0.884\n",
            "Test set score: 0.860\n",
            "Number of Neighbour: 20\n",
            "Training set score: 0.885\n",
            "Test set score: 0.860\n",
            "Number of Neighbour: 21\n",
            "Training set score: 0.885\n",
            "Test set score: 0.845\n",
            "Number of Neighbour: 22\n",
            "Training set score: 0.886\n",
            "Test set score: 0.835\n",
            "Number of Neighbour: 23\n",
            "Training set score: 0.886\n",
            "Test set score: 0.835\n",
            "Number of Neighbour: 24\n",
            "Training set score: 0.884\n",
            "Test set score: 0.835\n",
            "Number of Neighbour: 25\n",
            "Training set score: 0.885\n",
            "Test set score: 0.815\n",
            "Number of Neighbour: 26\n",
            "Training set score: 0.882\n",
            "Test set score: 0.830\n",
            "Number of Neighbour: 27\n",
            "Training set score: 0.879\n",
            "Test set score: 0.835\n",
            "Number of Neighbour: 28\n",
            "Training set score: 0.879\n",
            "Test set score: 0.830\n",
            "Number of Neighbour: 29\n",
            "Training set score: 0.882\n",
            "Test set score: 0.835\n",
            "Number of Neighbour: 30\n",
            "Training set score: 0.877\n",
            "Test set score: 0.840\n",
            "Number of Neighbour: 31\n",
            "Training set score: 0.879\n",
            "Test set score: 0.835\n",
            "Number of Neighbour: 32\n",
            "Training set score: 0.879\n",
            "Test set score: 0.840\n",
            "Number of Neighbour: 33\n",
            "Training set score: 0.876\n",
            "Test set score: 0.830\n",
            "Number of Neighbour: 34\n",
            "Training set score: 0.877\n",
            "Test set score: 0.830\n"
          ]
        }
      ],
      "source": [
        "for n in range(10, 35):\n",
        "    knn = KNeighborsClassifier(n_neighbors= n)\n",
        "    knn.fit(X_train, y_train)\n",
        "    knn.score(X_train, y_train)\n",
        "    print('Number of Neighbour:', n)\n",
        "    print(\"Training set score: {:.3f}\".format(knn.score(X_train, y_train)))\n",
        "    print(\"Test set score: {:.3f}\".format(knn.score(X_test, y_test)))"
      ]
    },
    {
      "cell_type": "code",
      "execution_count": null,
      "metadata": {
        "id": "fXfSdBNBFVYT"
      },
      "outputs": [],
      "source": [
        "# Number of Neighbour: 31\n",
        "# Training set score: 0.867\n",
        "# Test set score: 0.865"
      ]
    },
    {
      "cell_type": "markdown",
      "metadata": {
        "id": "7QSWnmP2FVYT"
      },
      "source": [
        "#### Decision Tree"
      ]
    },
    {
      "cell_type": "code",
      "execution_count": null,
      "metadata": {
        "id": "scCrsdb_FVYT",
        "outputId": "148b092c-836e-4072-98f7-cfee5ad25136"
      },
      "outputs": [
        {
          "name": "stdout",
          "output_type": "stream",
          "text": [
            "Accuracy on training set: 1.000\n",
            "Accuracy on test set: 0.865\n"
          ]
        }
      ],
      "source": [
        "tree = DecisionTreeClassifier(random_state=0)\n",
        "tree.fit(X_train, y_train)\n",
        "print(\"Accuracy on training set: {:.3f}\".format(tree.score(X_train, y_train)))\n",
        "print(\"Accuracy on test set: {:.3f}\".format(tree.score(X_test, y_test)))"
      ]
    },
    {
      "cell_type": "code",
      "execution_count": null,
      "metadata": {
        "id": "hABqjrAgFVYT",
        "outputId": "a3354749-a510-46eb-e7d4-7bca46eb2438"
      },
      "outputs": [
        {
          "name": "stdout",
          "output_type": "stream",
          "text": [
            "Accuracy on training set: 0.892\n",
            "Accuracy on test set: 0.825\n"
          ]
        }
      ],
      "source": [
        "tree = DecisionTreeClassifier(max_depth=3, random_state=0)\n",
        "tree.fit(X_train, y_train)\n",
        "print(\"Accuracy on training set: {:.3f}\".format(tree.score(X_train, y_train)))\n",
        "print(\"Accuracy on test set: {:.3f}\".format(tree.score(X_test, y_test)))"
      ]
    },
    {
      "cell_type": "code",
      "execution_count": null,
      "metadata": {
        "id": "_KE_6NIwFVYT",
        "outputId": "551e1958-1155-4a97-effd-c0bb6f435581"
      },
      "outputs": [
        {
          "name": "stdout",
          "output_type": "stream",
          "text": [
            "Accuracy on training set: 0.916\n",
            "Accuracy on test set: 0.835\n"
          ]
        }
      ],
      "source": [
        "tree = DecisionTreeClassifier(max_depth=4, random_state=0)\n",
        "tree.fit(X_train, y_train)\n",
        "print(\"Accuracy on training set: {:.3f}\".format(tree.score(X_train, y_train)))\n",
        "print(\"Accuracy on test set: {:.3f}\".format(tree.score(X_test, y_test)))"
      ]
    },
    {
      "cell_type": "code",
      "execution_count": null,
      "metadata": {
        "id": "dkfOqtm0FVYT",
        "outputId": "ae5beae1-4a51-4b9b-fd8f-f738111759e7"
      },
      "outputs": [
        {
          "data": {
            "text/plain": [
              "array([0.01039893, 0.049677  , 0.        , 0.07642303, 0.78129988,\n",
              "       0.02119919, 0.06100197])"
            ]
          },
          "execution_count": 103,
          "metadata": {},
          "output_type": "execute_result"
        }
      ],
      "source": [
        "tree.feature_importances_"
      ]
    },
    {
      "cell_type": "markdown",
      "metadata": {
        "id": "kkKrINRlFVYT"
      },
      "source": [
        "#### Random Forest"
      ]
    },
    {
      "cell_type": "code",
      "execution_count": null,
      "metadata": {
        "id": "Xbp5Wh33FVYT",
        "outputId": "35544ab2-ed39-49ce-bb5b-6a4c03ec26bd"
      },
      "outputs": [
        {
          "name": "stdout",
          "output_type": "stream",
          "text": [
            "Accuracy on training set: 1.000\n",
            "Accuracy on test set: 0.885\n"
          ]
        }
      ],
      "source": [
        "rf = RandomForestClassifier(n_estimators=100, random_state=0)\n",
        "rf.fit(X_train, y_train)\n",
        "print(\"Accuracy on training set: {:.3f}\".format(rf.score(X_train, y_train)))\n",
        "print(\"Accuracy on test set: {:.3f}\".format(rf.score(X_test, y_test)))"
      ]
    },
    {
      "cell_type": "code",
      "execution_count": null,
      "metadata": {
        "id": "fsBy9e_XFVYU",
        "outputId": "e4ca477a-489c-4925-88f3-c663af25d6e1"
      },
      "outputs": [
        {
          "name": "stdout",
          "output_type": "stream",
          "text": [
            "Accuracy on training set: 0.905\n",
            "Accuracy on test set: 0.860\n"
          ]
        }
      ],
      "source": [
        "rf1 = RandomForestClassifier(max_depth=3, n_estimators=100, random_state=0)\n",
        "rf1.fit(X_train, y_train)\n",
        "print(\"Accuracy on training set: {:.3f}\".format(rf1.score(X_train, y_train)))\n",
        "print(\"Accuracy on test set: {:.3f}\".format(rf1.score(X_test, y_test)))"
      ]
    },
    {
      "cell_type": "code",
      "execution_count": null,
      "metadata": {
        "id": "iPhA1wboFVYU",
        "outputId": "83ff53f8-b110-4da5-921d-77d8281a5903"
      },
      "outputs": [
        {
          "name": "stdout",
          "output_type": "stream",
          "text": [
            "Accuracy on training set: 0.905\n",
            "Accuracy on test set: 0.860\n"
          ]
        }
      ],
      "source": [
        "rf2 = RandomForestClassifier(max_depth=4, n_estimators=100, random_state=0)\n",
        "rf2.fit(X_train, y_train)\n",
        "print(\"Accuracy on training set: {:.3f}\".format(rf1.score(X_train, y_train)))\n",
        "print(\"Accuracy on test set: {:.3f}\".format(rf1.score(X_test, y_test)))"
      ]
    },
    {
      "cell_type": "code",
      "execution_count": null,
      "metadata": {
        "id": "sqoVHKV3FVYU",
        "outputId": "c84227ef-1840-4ce7-af42-7a5b518ba19e"
      },
      "outputs": [
        {
          "name": "stdout",
          "output_type": "stream",
          "text": [
            "Accuracy on training set: 0.905\n",
            "Accuracy on test set: 0.860\n"
          ]
        }
      ],
      "source": [
        "rf3 = RandomForestClassifier(max_depth=6, n_estimators=100, random_state=0)\n",
        "rf3.fit(X_train, y_train)\n",
        "print(\"Accuracy on training set: {:.3f}\".format(rf1.score(X_train, y_train)))\n",
        "print(\"Accuracy on test set: {:.3f}\".format(rf1.score(X_test, y_test)))"
      ]
    },
    {
      "cell_type": "code",
      "execution_count": null,
      "metadata": {
        "id": "3wcGeYxJFVYU"
      },
      "outputs": [],
      "source": [
        "pickle.dump(rf3, open(r'C:\\Users\\dyadav\\Videos\\CBRE\\Final_Model.pkl','wb'))"
      ]
    },
    {
      "cell_type": "code",
      "execution_count": null,
      "metadata": {
        "id": "vGQYk4XlFVYU"
      },
      "outputs": [],
      "source": []
    }
  ],
  "metadata": {
    "kernelspec": {
      "display_name": "Python 3 (ipykernel)",
      "language": "python",
      "name": "python3"
    },
    "language_info": {
      "codemirror_mode": {
        "name": "ipython",
        "version": 3
      },
      "file_extension": ".py",
      "mimetype": "text/x-python",
      "name": "python",
      "nbconvert_exporter": "python",
      "pygments_lexer": "ipython3",
      "version": "3.9.13"
    },
    "colab": {
      "provenance": []
    }
  },
  "nbformat": 4,
  "nbformat_minor": 0
}